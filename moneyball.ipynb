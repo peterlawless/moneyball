{
 "cells": [
  {
   "cell_type": "code",
   "execution_count": 1,
   "metadata": {
    "collapsed": true
   },
   "outputs": [],
   "source": [
    "import pandas as pd\n",
    "import numpy as np\n",
    "import matplotlib.pyplot as plt\n",
    "import re\n",
    "\n",
    "%matplotlib inline"
   ]
  },
  {
   "cell_type": "code",
   "execution_count": 2,
   "metadata": {
    "collapsed": false
   },
   "outputs": [],
   "source": [
    "batting = pd.read_csv('data/Batting.csv')"
   ]
  },
  {
   "cell_type": "code",
   "execution_count": 3,
   "metadata": {
    "collapsed": false
   },
   "outputs": [
    {
     "data": {
      "text/html": [
       "<div>\n",
       "<table border=\"1\" class=\"dataframe\">\n",
       "  <thead>\n",
       "    <tr style=\"text-align: right;\">\n",
       "      <th></th>\n",
       "      <th>playerID</th>\n",
       "      <th>yearID</th>\n",
       "      <th>stint</th>\n",
       "      <th>teamID</th>\n",
       "      <th>lgID</th>\n",
       "      <th>G</th>\n",
       "      <th>AB</th>\n",
       "      <th>R</th>\n",
       "      <th>H</th>\n",
       "      <th>2B</th>\n",
       "      <th>...</th>\n",
       "      <th>RBI</th>\n",
       "      <th>SB</th>\n",
       "      <th>CS</th>\n",
       "      <th>BB</th>\n",
       "      <th>SO</th>\n",
       "      <th>IBB</th>\n",
       "      <th>HBP</th>\n",
       "      <th>SH</th>\n",
       "      <th>SF</th>\n",
       "      <th>GIDP</th>\n",
       "    </tr>\n",
       "  </thead>\n",
       "  <tbody>\n",
       "    <tr>\n",
       "      <th>0</th>\n",
       "      <td>abercda01</td>\n",
       "      <td>1871</td>\n",
       "      <td>1</td>\n",
       "      <td>TRO</td>\n",
       "      <td>NaN</td>\n",
       "      <td>1</td>\n",
       "      <td>4.0</td>\n",
       "      <td>0.0</td>\n",
       "      <td>0.0</td>\n",
       "      <td>0.0</td>\n",
       "      <td>...</td>\n",
       "      <td>0.0</td>\n",
       "      <td>0.0</td>\n",
       "      <td>0.0</td>\n",
       "      <td>0.0</td>\n",
       "      <td>0.0</td>\n",
       "      <td>NaN</td>\n",
       "      <td>NaN</td>\n",
       "      <td>NaN</td>\n",
       "      <td>NaN</td>\n",
       "      <td>NaN</td>\n",
       "    </tr>\n",
       "    <tr>\n",
       "      <th>1</th>\n",
       "      <td>addybo01</td>\n",
       "      <td>1871</td>\n",
       "      <td>1</td>\n",
       "      <td>RC1</td>\n",
       "      <td>NaN</td>\n",
       "      <td>25</td>\n",
       "      <td>118.0</td>\n",
       "      <td>30.0</td>\n",
       "      <td>32.0</td>\n",
       "      <td>6.0</td>\n",
       "      <td>...</td>\n",
       "      <td>13.0</td>\n",
       "      <td>8.0</td>\n",
       "      <td>1.0</td>\n",
       "      <td>4.0</td>\n",
       "      <td>0.0</td>\n",
       "      <td>NaN</td>\n",
       "      <td>NaN</td>\n",
       "      <td>NaN</td>\n",
       "      <td>NaN</td>\n",
       "      <td>NaN</td>\n",
       "    </tr>\n",
       "    <tr>\n",
       "      <th>2</th>\n",
       "      <td>allisar01</td>\n",
       "      <td>1871</td>\n",
       "      <td>1</td>\n",
       "      <td>CL1</td>\n",
       "      <td>NaN</td>\n",
       "      <td>29</td>\n",
       "      <td>137.0</td>\n",
       "      <td>28.0</td>\n",
       "      <td>40.0</td>\n",
       "      <td>4.0</td>\n",
       "      <td>...</td>\n",
       "      <td>19.0</td>\n",
       "      <td>3.0</td>\n",
       "      <td>1.0</td>\n",
       "      <td>2.0</td>\n",
       "      <td>5.0</td>\n",
       "      <td>NaN</td>\n",
       "      <td>NaN</td>\n",
       "      <td>NaN</td>\n",
       "      <td>NaN</td>\n",
       "      <td>NaN</td>\n",
       "    </tr>\n",
       "    <tr>\n",
       "      <th>3</th>\n",
       "      <td>allisdo01</td>\n",
       "      <td>1871</td>\n",
       "      <td>1</td>\n",
       "      <td>WS3</td>\n",
       "      <td>NaN</td>\n",
       "      <td>27</td>\n",
       "      <td>133.0</td>\n",
       "      <td>28.0</td>\n",
       "      <td>44.0</td>\n",
       "      <td>10.0</td>\n",
       "      <td>...</td>\n",
       "      <td>27.0</td>\n",
       "      <td>1.0</td>\n",
       "      <td>1.0</td>\n",
       "      <td>0.0</td>\n",
       "      <td>2.0</td>\n",
       "      <td>NaN</td>\n",
       "      <td>NaN</td>\n",
       "      <td>NaN</td>\n",
       "      <td>NaN</td>\n",
       "      <td>NaN</td>\n",
       "    </tr>\n",
       "    <tr>\n",
       "      <th>4</th>\n",
       "      <td>ansonca01</td>\n",
       "      <td>1871</td>\n",
       "      <td>1</td>\n",
       "      <td>RC1</td>\n",
       "      <td>NaN</td>\n",
       "      <td>25</td>\n",
       "      <td>120.0</td>\n",
       "      <td>29.0</td>\n",
       "      <td>39.0</td>\n",
       "      <td>11.0</td>\n",
       "      <td>...</td>\n",
       "      <td>16.0</td>\n",
       "      <td>6.0</td>\n",
       "      <td>2.0</td>\n",
       "      <td>2.0</td>\n",
       "      <td>1.0</td>\n",
       "      <td>NaN</td>\n",
       "      <td>NaN</td>\n",
       "      <td>NaN</td>\n",
       "      <td>NaN</td>\n",
       "      <td>NaN</td>\n",
       "    </tr>\n",
       "  </tbody>\n",
       "</table>\n",
       "<p>5 rows × 22 columns</p>\n",
       "</div>"
      ],
      "text/plain": [
       "    playerID  yearID  stint teamID lgID   G     AB     R     H    2B  ...   \\\n",
       "0  abercda01    1871      1    TRO  NaN   1    4.0   0.0   0.0   0.0  ...    \n",
       "1   addybo01    1871      1    RC1  NaN  25  118.0  30.0  32.0   6.0  ...    \n",
       "2  allisar01    1871      1    CL1  NaN  29  137.0  28.0  40.0   4.0  ...    \n",
       "3  allisdo01    1871      1    WS3  NaN  27  133.0  28.0  44.0  10.0  ...    \n",
       "4  ansonca01    1871      1    RC1  NaN  25  120.0  29.0  39.0  11.0  ...    \n",
       "\n",
       "    RBI   SB   CS   BB   SO  IBB  HBP  SH  SF  GIDP  \n",
       "0   0.0  0.0  0.0  0.0  0.0  NaN  NaN NaN NaN   NaN  \n",
       "1  13.0  8.0  1.0  4.0  0.0  NaN  NaN NaN NaN   NaN  \n",
       "2  19.0  3.0  1.0  2.0  5.0  NaN  NaN NaN NaN   NaN  \n",
       "3  27.0  1.0  1.0  0.0  2.0  NaN  NaN NaN NaN   NaN  \n",
       "4  16.0  6.0  2.0  2.0  1.0  NaN  NaN NaN NaN   NaN  \n",
       "\n",
       "[5 rows x 22 columns]"
      ]
     },
     "execution_count": 3,
     "metadata": {},
     "output_type": "execute_result"
    }
   ],
   "source": [
    "batting.head()"
   ]
  },
  {
   "cell_type": "code",
   "execution_count": 4,
   "metadata": {
    "collapsed": false
   },
   "outputs": [
    {
     "data": {
      "text/plain": [
       "101332"
      ]
     },
     "execution_count": 4,
     "metadata": {},
     "output_type": "execute_result"
    }
   ],
   "source": [
    "len(batting)"
   ]
  },
  {
   "cell_type": "code",
   "execution_count": 5,
   "metadata": {
    "collapsed": false
   },
   "outputs": [
    {
     "data": {
      "text/html": [
       "<div>\n",
       "<table border=\"1\" class=\"dataframe\">\n",
       "  <thead>\n",
       "    <tr style=\"text-align: right;\">\n",
       "      <th></th>\n",
       "      <th>playerID</th>\n",
       "      <th>yearID</th>\n",
       "      <th>stint</th>\n",
       "      <th>teamID</th>\n",
       "      <th>lgID</th>\n",
       "      <th>G</th>\n",
       "      <th>AB</th>\n",
       "      <th>R</th>\n",
       "      <th>H</th>\n",
       "      <th>2B</th>\n",
       "      <th>...</th>\n",
       "      <th>RBI</th>\n",
       "      <th>SB</th>\n",
       "      <th>CS</th>\n",
       "      <th>BB</th>\n",
       "      <th>SO</th>\n",
       "      <th>IBB</th>\n",
       "      <th>HBP</th>\n",
       "      <th>SH</th>\n",
       "      <th>SF</th>\n",
       "      <th>GIDP</th>\n",
       "    </tr>\n",
       "  </thead>\n",
       "  <tbody>\n",
       "    <tr>\n",
       "      <th>101327</th>\n",
       "      <td>zitoba01</td>\n",
       "      <td>2015</td>\n",
       "      <td>1</td>\n",
       "      <td>OAK</td>\n",
       "      <td>AL</td>\n",
       "      <td>3</td>\n",
       "      <td>0.0</td>\n",
       "      <td>0.0</td>\n",
       "      <td>0.0</td>\n",
       "      <td>0.0</td>\n",
       "      <td>...</td>\n",
       "      <td>0.0</td>\n",
       "      <td>0.0</td>\n",
       "      <td>0.0</td>\n",
       "      <td>0.0</td>\n",
       "      <td>0.0</td>\n",
       "      <td>0.0</td>\n",
       "      <td>0.0</td>\n",
       "      <td>0.0</td>\n",
       "      <td>0.0</td>\n",
       "      <td>0.0</td>\n",
       "    </tr>\n",
       "    <tr>\n",
       "      <th>101328</th>\n",
       "      <td>zobribe01</td>\n",
       "      <td>2015</td>\n",
       "      <td>1</td>\n",
       "      <td>OAK</td>\n",
       "      <td>AL</td>\n",
       "      <td>67</td>\n",
       "      <td>235.0</td>\n",
       "      <td>39.0</td>\n",
       "      <td>63.0</td>\n",
       "      <td>20.0</td>\n",
       "      <td>...</td>\n",
       "      <td>33.0</td>\n",
       "      <td>1.0</td>\n",
       "      <td>1.0</td>\n",
       "      <td>33.0</td>\n",
       "      <td>26.0</td>\n",
       "      <td>2.0</td>\n",
       "      <td>0.0</td>\n",
       "      <td>0.0</td>\n",
       "      <td>3.0</td>\n",
       "      <td>5.0</td>\n",
       "    </tr>\n",
       "    <tr>\n",
       "      <th>101329</th>\n",
       "      <td>zobribe01</td>\n",
       "      <td>2015</td>\n",
       "      <td>2</td>\n",
       "      <td>KCA</td>\n",
       "      <td>AL</td>\n",
       "      <td>59</td>\n",
       "      <td>232.0</td>\n",
       "      <td>37.0</td>\n",
       "      <td>66.0</td>\n",
       "      <td>16.0</td>\n",
       "      <td>...</td>\n",
       "      <td>23.0</td>\n",
       "      <td>2.0</td>\n",
       "      <td>3.0</td>\n",
       "      <td>29.0</td>\n",
       "      <td>30.0</td>\n",
       "      <td>1.0</td>\n",
       "      <td>1.0</td>\n",
       "      <td>0.0</td>\n",
       "      <td>2.0</td>\n",
       "      <td>3.0</td>\n",
       "    </tr>\n",
       "    <tr>\n",
       "      <th>101330</th>\n",
       "      <td>zuninmi01</td>\n",
       "      <td>2015</td>\n",
       "      <td>1</td>\n",
       "      <td>SEA</td>\n",
       "      <td>AL</td>\n",
       "      <td>112</td>\n",
       "      <td>350.0</td>\n",
       "      <td>28.0</td>\n",
       "      <td>61.0</td>\n",
       "      <td>11.0</td>\n",
       "      <td>...</td>\n",
       "      <td>28.0</td>\n",
       "      <td>0.0</td>\n",
       "      <td>1.0</td>\n",
       "      <td>21.0</td>\n",
       "      <td>132.0</td>\n",
       "      <td>0.0</td>\n",
       "      <td>5.0</td>\n",
       "      <td>8.0</td>\n",
       "      <td>2.0</td>\n",
       "      <td>6.0</td>\n",
       "    </tr>\n",
       "    <tr>\n",
       "      <th>101331</th>\n",
       "      <td>zychto01</td>\n",
       "      <td>2015</td>\n",
       "      <td>1</td>\n",
       "      <td>SEA</td>\n",
       "      <td>AL</td>\n",
       "      <td>13</td>\n",
       "      <td>0.0</td>\n",
       "      <td>0.0</td>\n",
       "      <td>0.0</td>\n",
       "      <td>0.0</td>\n",
       "      <td>...</td>\n",
       "      <td>0.0</td>\n",
       "      <td>0.0</td>\n",
       "      <td>0.0</td>\n",
       "      <td>0.0</td>\n",
       "      <td>0.0</td>\n",
       "      <td>0.0</td>\n",
       "      <td>0.0</td>\n",
       "      <td>0.0</td>\n",
       "      <td>0.0</td>\n",
       "      <td>0.0</td>\n",
       "    </tr>\n",
       "  </tbody>\n",
       "</table>\n",
       "<p>5 rows × 22 columns</p>\n",
       "</div>"
      ],
      "text/plain": [
       "         playerID  yearID  stint teamID lgID    G     AB     R     H    2B  \\\n",
       "101327   zitoba01    2015      1    OAK   AL    3    0.0   0.0   0.0   0.0   \n",
       "101328  zobribe01    2015      1    OAK   AL   67  235.0  39.0  63.0  20.0   \n",
       "101329  zobribe01    2015      2    KCA   AL   59  232.0  37.0  66.0  16.0   \n",
       "101330  zuninmi01    2015      1    SEA   AL  112  350.0  28.0  61.0  11.0   \n",
       "101331   zychto01    2015      1    SEA   AL   13    0.0   0.0   0.0   0.0   \n",
       "\n",
       "        ...    RBI   SB   CS    BB     SO  IBB  HBP   SH   SF  GIDP  \n",
       "101327  ...    0.0  0.0  0.0   0.0    0.0  0.0  0.0  0.0  0.0   0.0  \n",
       "101328  ...   33.0  1.0  1.0  33.0   26.0  2.0  0.0  0.0  3.0   5.0  \n",
       "101329  ...   23.0  2.0  3.0  29.0   30.0  1.0  1.0  0.0  2.0   3.0  \n",
       "101330  ...   28.0  0.0  1.0  21.0  132.0  0.0  5.0  8.0  2.0   6.0  \n",
       "101331  ...    0.0  0.0  0.0   0.0    0.0  0.0  0.0  0.0  0.0   0.0  \n",
       "\n",
       "[5 rows x 22 columns]"
      ]
     },
     "execution_count": 5,
     "metadata": {},
     "output_type": "execute_result"
    }
   ],
   "source": [
    "batting.tail()"
   ]
  },
  {
   "cell_type": "markdown",
   "metadata": {},
   "source": [
    "Get rid of players that have 0 at-bats, or if SF or HBP was not recorded"
   ]
  },
  {
   "cell_type": "code",
   "execution_count": 6,
   "metadata": {
    "collapsed": false
   },
   "outputs": [],
   "source": [
    "batting = batting.dropna(subset=['SF','HBP'])\n",
    "batting = batting[batting['AB'] != 0.0]"
   ]
  },
  {
   "cell_type": "markdown",
   "metadata": {},
   "source": [
    "Calculate OBP"
   ]
  },
  {
   "cell_type": "code",
   "execution_count": 7,
   "metadata": {
    "collapsed": false
   },
   "outputs": [],
   "source": [
    "batting['OBP'] = (batting['H'] + batting['BB'] + batting['HBP']) / (batting['AB'] + batting['BB'] + batting['HBP'] +  batting['SF'])"
   ]
  },
  {
   "cell_type": "code",
   "execution_count": 8,
   "metadata": {
    "collapsed": false
   },
   "outputs": [
    {
     "data": {
      "text/html": [
       "<div>\n",
       "<table border=\"1\" class=\"dataframe\">\n",
       "  <thead>\n",
       "    <tr style=\"text-align: right;\">\n",
       "      <th></th>\n",
       "      <th>playerID</th>\n",
       "      <th>yearID</th>\n",
       "      <th>stint</th>\n",
       "      <th>teamID</th>\n",
       "      <th>lgID</th>\n",
       "      <th>G</th>\n",
       "      <th>AB</th>\n",
       "      <th>R</th>\n",
       "      <th>H</th>\n",
       "      <th>2B</th>\n",
       "      <th>...</th>\n",
       "      <th>SB</th>\n",
       "      <th>CS</th>\n",
       "      <th>BB</th>\n",
       "      <th>SO</th>\n",
       "      <th>IBB</th>\n",
       "      <th>HBP</th>\n",
       "      <th>SH</th>\n",
       "      <th>SF</th>\n",
       "      <th>GIDP</th>\n",
       "      <th>OBP</th>\n",
       "    </tr>\n",
       "  </thead>\n",
       "  <tbody>\n",
       "    <tr>\n",
       "      <th>36871</th>\n",
       "      <td>aaronha01</td>\n",
       "      <td>1954</td>\n",
       "      <td>1</td>\n",
       "      <td>ML1</td>\n",
       "      <td>NL</td>\n",
       "      <td>122</td>\n",
       "      <td>468.0</td>\n",
       "      <td>58.0</td>\n",
       "      <td>131.0</td>\n",
       "      <td>27.0</td>\n",
       "      <td>...</td>\n",
       "      <td>2.0</td>\n",
       "      <td>2.0</td>\n",
       "      <td>28.0</td>\n",
       "      <td>39.0</td>\n",
       "      <td>NaN</td>\n",
       "      <td>3.0</td>\n",
       "      <td>6.0</td>\n",
       "      <td>4.0</td>\n",
       "      <td>13.0</td>\n",
       "      <td>0.322068</td>\n",
       "    </tr>\n",
       "    <tr>\n",
       "      <th>36872</th>\n",
       "      <td>aberal01</td>\n",
       "      <td>1954</td>\n",
       "      <td>1</td>\n",
       "      <td>DET</td>\n",
       "      <td>AL</td>\n",
       "      <td>32</td>\n",
       "      <td>39.0</td>\n",
       "      <td>3.0</td>\n",
       "      <td>5.0</td>\n",
       "      <td>0.0</td>\n",
       "      <td>...</td>\n",
       "      <td>0.0</td>\n",
       "      <td>0.0</td>\n",
       "      <td>2.0</td>\n",
       "      <td>17.0</td>\n",
       "      <td>NaN</td>\n",
       "      <td>0.0</td>\n",
       "      <td>3.0</td>\n",
       "      <td>1.0</td>\n",
       "      <td>1.0</td>\n",
       "      <td>0.166667</td>\n",
       "    </tr>\n",
       "    <tr>\n",
       "      <th>36873</th>\n",
       "      <td>abramca01</td>\n",
       "      <td>1954</td>\n",
       "      <td>1</td>\n",
       "      <td>PIT</td>\n",
       "      <td>NL</td>\n",
       "      <td>17</td>\n",
       "      <td>42.0</td>\n",
       "      <td>6.0</td>\n",
       "      <td>6.0</td>\n",
       "      <td>1.0</td>\n",
       "      <td>...</td>\n",
       "      <td>0.0</td>\n",
       "      <td>0.0</td>\n",
       "      <td>10.0</td>\n",
       "      <td>9.0</td>\n",
       "      <td>NaN</td>\n",
       "      <td>0.0</td>\n",
       "      <td>0.0</td>\n",
       "      <td>0.0</td>\n",
       "      <td>2.0</td>\n",
       "      <td>0.307692</td>\n",
       "    </tr>\n",
       "    <tr>\n",
       "      <th>36874</th>\n",
       "      <td>abramca01</td>\n",
       "      <td>1954</td>\n",
       "      <td>2</td>\n",
       "      <td>BAL</td>\n",
       "      <td>AL</td>\n",
       "      <td>115</td>\n",
       "      <td>423.0</td>\n",
       "      <td>67.0</td>\n",
       "      <td>124.0</td>\n",
       "      <td>22.0</td>\n",
       "      <td>...</td>\n",
       "      <td>1.0</td>\n",
       "      <td>4.0</td>\n",
       "      <td>72.0</td>\n",
       "      <td>67.0</td>\n",
       "      <td>NaN</td>\n",
       "      <td>4.0</td>\n",
       "      <td>6.0</td>\n",
       "      <td>1.0</td>\n",
       "      <td>5.0</td>\n",
       "      <td>0.400000</td>\n",
       "    </tr>\n",
       "    <tr>\n",
       "      <th>36875</th>\n",
       "      <td>adamsbo03</td>\n",
       "      <td>1954</td>\n",
       "      <td>1</td>\n",
       "      <td>CIN</td>\n",
       "      <td>NL</td>\n",
       "      <td>110</td>\n",
       "      <td>390.0</td>\n",
       "      <td>69.0</td>\n",
       "      <td>105.0</td>\n",
       "      <td>25.0</td>\n",
       "      <td>...</td>\n",
       "      <td>2.0</td>\n",
       "      <td>5.0</td>\n",
       "      <td>55.0</td>\n",
       "      <td>46.0</td>\n",
       "      <td>NaN</td>\n",
       "      <td>3.0</td>\n",
       "      <td>4.0</td>\n",
       "      <td>2.0</td>\n",
       "      <td>4.0</td>\n",
       "      <td>0.362222</td>\n",
       "    </tr>\n",
       "  </tbody>\n",
       "</table>\n",
       "<p>5 rows × 23 columns</p>\n",
       "</div>"
      ],
      "text/plain": [
       "        playerID  yearID  stint teamID lgID    G     AB     R      H    2B  \\\n",
       "36871  aaronha01    1954      1    ML1   NL  122  468.0  58.0  131.0  27.0   \n",
       "36872   aberal01    1954      1    DET   AL   32   39.0   3.0    5.0   0.0   \n",
       "36873  abramca01    1954      1    PIT   NL   17   42.0   6.0    6.0   1.0   \n",
       "36874  abramca01    1954      2    BAL   AL  115  423.0  67.0  124.0  22.0   \n",
       "36875  adamsbo03    1954      1    CIN   NL  110  390.0  69.0  105.0  25.0   \n",
       "\n",
       "         ...      SB   CS    BB    SO  IBB  HBP   SH   SF  GIDP       OBP  \n",
       "36871    ...     2.0  2.0  28.0  39.0  NaN  3.0  6.0  4.0  13.0  0.322068  \n",
       "36872    ...     0.0  0.0   2.0  17.0  NaN  0.0  3.0  1.0   1.0  0.166667  \n",
       "36873    ...     0.0  0.0  10.0   9.0  NaN  0.0  0.0  0.0   2.0  0.307692  \n",
       "36874    ...     1.0  4.0  72.0  67.0  NaN  4.0  6.0  1.0   5.0  0.400000  \n",
       "36875    ...     2.0  5.0  55.0  46.0  NaN  3.0  4.0  2.0   4.0  0.362222  \n",
       "\n",
       "[5 rows x 23 columns]"
      ]
     },
     "execution_count": 8,
     "metadata": {},
     "output_type": "execute_result"
    }
   ],
   "source": [
    "batting.head()"
   ]
  },
  {
   "cell_type": "code",
   "execution_count": 9,
   "metadata": {
    "collapsed": false
   },
   "outputs": [
    {
     "data": {
      "text/html": [
       "<div>\n",
       "<table border=\"1\" class=\"dataframe\">\n",
       "  <thead>\n",
       "    <tr style=\"text-align: right;\">\n",
       "      <th></th>\n",
       "      <th>playerID</th>\n",
       "      <th>yearID</th>\n",
       "      <th>stint</th>\n",
       "      <th>teamID</th>\n",
       "      <th>lgID</th>\n",
       "      <th>G</th>\n",
       "      <th>AB</th>\n",
       "      <th>R</th>\n",
       "      <th>H</th>\n",
       "      <th>2B</th>\n",
       "      <th>...</th>\n",
       "      <th>SB</th>\n",
       "      <th>CS</th>\n",
       "      <th>BB</th>\n",
       "      <th>SO</th>\n",
       "      <th>IBB</th>\n",
       "      <th>HBP</th>\n",
       "      <th>SH</th>\n",
       "      <th>SF</th>\n",
       "      <th>GIDP</th>\n",
       "      <th>OBP</th>\n",
       "    </tr>\n",
       "  </thead>\n",
       "  <tbody>\n",
       "    <tr>\n",
       "      <th>101325</th>\n",
       "      <td>zimmejo02</td>\n",
       "      <td>2015</td>\n",
       "      <td>1</td>\n",
       "      <td>WAS</td>\n",
       "      <td>NL</td>\n",
       "      <td>33</td>\n",
       "      <td>63.0</td>\n",
       "      <td>4.0</td>\n",
       "      <td>10.0</td>\n",
       "      <td>1.0</td>\n",
       "      <td>...</td>\n",
       "      <td>0.0</td>\n",
       "      <td>0.0</td>\n",
       "      <td>0.0</td>\n",
       "      <td>18.0</td>\n",
       "      <td>0.0</td>\n",
       "      <td>0.0</td>\n",
       "      <td>6.0</td>\n",
       "      <td>0.0</td>\n",
       "      <td>0.0</td>\n",
       "      <td>0.158730</td>\n",
       "    </tr>\n",
       "    <tr>\n",
       "      <th>101326</th>\n",
       "      <td>zimmery01</td>\n",
       "      <td>2015</td>\n",
       "      <td>1</td>\n",
       "      <td>WAS</td>\n",
       "      <td>NL</td>\n",
       "      <td>95</td>\n",
       "      <td>346.0</td>\n",
       "      <td>43.0</td>\n",
       "      <td>86.0</td>\n",
       "      <td>25.0</td>\n",
       "      <td>...</td>\n",
       "      <td>1.0</td>\n",
       "      <td>0.0</td>\n",
       "      <td>33.0</td>\n",
       "      <td>79.0</td>\n",
       "      <td>0.0</td>\n",
       "      <td>1.0</td>\n",
       "      <td>0.0</td>\n",
       "      <td>10.0</td>\n",
       "      <td>13.0</td>\n",
       "      <td>0.307692</td>\n",
       "    </tr>\n",
       "    <tr>\n",
       "      <th>101328</th>\n",
       "      <td>zobribe01</td>\n",
       "      <td>2015</td>\n",
       "      <td>1</td>\n",
       "      <td>OAK</td>\n",
       "      <td>AL</td>\n",
       "      <td>67</td>\n",
       "      <td>235.0</td>\n",
       "      <td>39.0</td>\n",
       "      <td>63.0</td>\n",
       "      <td>20.0</td>\n",
       "      <td>...</td>\n",
       "      <td>1.0</td>\n",
       "      <td>1.0</td>\n",
       "      <td>33.0</td>\n",
       "      <td>26.0</td>\n",
       "      <td>2.0</td>\n",
       "      <td>0.0</td>\n",
       "      <td>0.0</td>\n",
       "      <td>3.0</td>\n",
       "      <td>5.0</td>\n",
       "      <td>0.354244</td>\n",
       "    </tr>\n",
       "    <tr>\n",
       "      <th>101329</th>\n",
       "      <td>zobribe01</td>\n",
       "      <td>2015</td>\n",
       "      <td>2</td>\n",
       "      <td>KCA</td>\n",
       "      <td>AL</td>\n",
       "      <td>59</td>\n",
       "      <td>232.0</td>\n",
       "      <td>37.0</td>\n",
       "      <td>66.0</td>\n",
       "      <td>16.0</td>\n",
       "      <td>...</td>\n",
       "      <td>2.0</td>\n",
       "      <td>3.0</td>\n",
       "      <td>29.0</td>\n",
       "      <td>30.0</td>\n",
       "      <td>1.0</td>\n",
       "      <td>1.0</td>\n",
       "      <td>0.0</td>\n",
       "      <td>2.0</td>\n",
       "      <td>3.0</td>\n",
       "      <td>0.363636</td>\n",
       "    </tr>\n",
       "    <tr>\n",
       "      <th>101330</th>\n",
       "      <td>zuninmi01</td>\n",
       "      <td>2015</td>\n",
       "      <td>1</td>\n",
       "      <td>SEA</td>\n",
       "      <td>AL</td>\n",
       "      <td>112</td>\n",
       "      <td>350.0</td>\n",
       "      <td>28.0</td>\n",
       "      <td>61.0</td>\n",
       "      <td>11.0</td>\n",
       "      <td>...</td>\n",
       "      <td>0.0</td>\n",
       "      <td>1.0</td>\n",
       "      <td>21.0</td>\n",
       "      <td>132.0</td>\n",
       "      <td>0.0</td>\n",
       "      <td>5.0</td>\n",
       "      <td>8.0</td>\n",
       "      <td>2.0</td>\n",
       "      <td>6.0</td>\n",
       "      <td>0.230159</td>\n",
       "    </tr>\n",
       "  </tbody>\n",
       "</table>\n",
       "<p>5 rows × 23 columns</p>\n",
       "</div>"
      ],
      "text/plain": [
       "         playerID  yearID  stint teamID lgID    G     AB     R     H    2B  \\\n",
       "101325  zimmejo02    2015      1    WAS   NL   33   63.0   4.0  10.0   1.0   \n",
       "101326  zimmery01    2015      1    WAS   NL   95  346.0  43.0  86.0  25.0   \n",
       "101328  zobribe01    2015      1    OAK   AL   67  235.0  39.0  63.0  20.0   \n",
       "101329  zobribe01    2015      2    KCA   AL   59  232.0  37.0  66.0  16.0   \n",
       "101330  zuninmi01    2015      1    SEA   AL  112  350.0  28.0  61.0  11.0   \n",
       "\n",
       "          ...      SB   CS    BB     SO  IBB  HBP   SH    SF  GIDP       OBP  \n",
       "101325    ...     0.0  0.0   0.0   18.0  0.0  0.0  6.0   0.0   0.0  0.158730  \n",
       "101326    ...     1.0  0.0  33.0   79.0  0.0  1.0  0.0  10.0  13.0  0.307692  \n",
       "101328    ...     1.0  1.0  33.0   26.0  2.0  0.0  0.0   3.0   5.0  0.354244  \n",
       "101329    ...     2.0  3.0  29.0   30.0  1.0  1.0  0.0   2.0   3.0  0.363636  \n",
       "101330    ...     0.0  1.0  21.0  132.0  0.0  5.0  8.0   2.0   6.0  0.230159  \n",
       "\n",
       "[5 rows x 23 columns]"
      ]
     },
     "execution_count": 9,
     "metadata": {},
     "output_type": "execute_result"
    }
   ],
   "source": [
    "batting.tail()"
   ]
  },
  {
   "cell_type": "markdown",
   "metadata": {},
   "source": [
    "Get rid of all the useless things"
   ]
  },
  {
   "cell_type": "code",
   "execution_count": 10,
   "metadata": {
    "collapsed": false
   },
   "outputs": [],
   "source": [
    "batting = batting.drop(['G','AB','R','H','2B','3B','RBI','SB','CS','BB','SO','IBB','HBP','SH','SF','GIDP','HR'], axis=1)"
   ]
  },
  {
   "cell_type": "code",
   "execution_count": 11,
   "metadata": {
    "collapsed": false
   },
   "outputs": [
    {
     "data": {
      "text/html": [
       "<div>\n",
       "<table border=\"1\" class=\"dataframe\">\n",
       "  <thead>\n",
       "    <tr style=\"text-align: right;\">\n",
       "      <th></th>\n",
       "      <th>playerID</th>\n",
       "      <th>yearID</th>\n",
       "      <th>stint</th>\n",
       "      <th>teamID</th>\n",
       "      <th>lgID</th>\n",
       "      <th>OBP</th>\n",
       "    </tr>\n",
       "  </thead>\n",
       "  <tbody>\n",
       "    <tr>\n",
       "      <th>36871</th>\n",
       "      <td>aaronha01</td>\n",
       "      <td>1954</td>\n",
       "      <td>1</td>\n",
       "      <td>ML1</td>\n",
       "      <td>NL</td>\n",
       "      <td>0.322068</td>\n",
       "    </tr>\n",
       "    <tr>\n",
       "      <th>36872</th>\n",
       "      <td>aberal01</td>\n",
       "      <td>1954</td>\n",
       "      <td>1</td>\n",
       "      <td>DET</td>\n",
       "      <td>AL</td>\n",
       "      <td>0.166667</td>\n",
       "    </tr>\n",
       "    <tr>\n",
       "      <th>36873</th>\n",
       "      <td>abramca01</td>\n",
       "      <td>1954</td>\n",
       "      <td>1</td>\n",
       "      <td>PIT</td>\n",
       "      <td>NL</td>\n",
       "      <td>0.307692</td>\n",
       "    </tr>\n",
       "    <tr>\n",
       "      <th>36874</th>\n",
       "      <td>abramca01</td>\n",
       "      <td>1954</td>\n",
       "      <td>2</td>\n",
       "      <td>BAL</td>\n",
       "      <td>AL</td>\n",
       "      <td>0.400000</td>\n",
       "    </tr>\n",
       "    <tr>\n",
       "      <th>36875</th>\n",
       "      <td>adamsbo03</td>\n",
       "      <td>1954</td>\n",
       "      <td>1</td>\n",
       "      <td>CIN</td>\n",
       "      <td>NL</td>\n",
       "      <td>0.362222</td>\n",
       "    </tr>\n",
       "  </tbody>\n",
       "</table>\n",
       "</div>"
      ],
      "text/plain": [
       "        playerID  yearID  stint teamID lgID       OBP\n",
       "36871  aaronha01    1954      1    ML1   NL  0.322068\n",
       "36872   aberal01    1954      1    DET   AL  0.166667\n",
       "36873  abramca01    1954      1    PIT   NL  0.307692\n",
       "36874  abramca01    1954      2    BAL   AL  0.400000\n",
       "36875  adamsbo03    1954      1    CIN   NL  0.362222"
      ]
     },
     "execution_count": 11,
     "metadata": {},
     "output_type": "execute_result"
    }
   ],
   "source": [
    "batting.head()"
   ]
  },
  {
   "cell_type": "markdown",
   "metadata": {},
   "source": [
    "Salary data starts in 1985, so let's get rid of everything before that date."
   ]
  },
  {
   "cell_type": "code",
   "execution_count": 12,
   "metadata": {
    "collapsed": true
   },
   "outputs": [],
   "source": [
    "batting = batting[batting['yearID'] >= 1985]"
   ]
  },
  {
   "cell_type": "code",
   "execution_count": 13,
   "metadata": {
    "collapsed": false
   },
   "outputs": [
    {
     "data": {
      "text/html": [
       "<div>\n",
       "<table border=\"1\" class=\"dataframe\">\n",
       "  <thead>\n",
       "    <tr style=\"text-align: right;\">\n",
       "      <th></th>\n",
       "      <th>playerID</th>\n",
       "      <th>yearID</th>\n",
       "      <th>stint</th>\n",
       "      <th>teamID</th>\n",
       "      <th>lgID</th>\n",
       "      <th>OBP</th>\n",
       "    </tr>\n",
       "  </thead>\n",
       "  <tbody>\n",
       "    <tr>\n",
       "      <th>62238</th>\n",
       "      <td>abregjo01</td>\n",
       "      <td>1985</td>\n",
       "      <td>1</td>\n",
       "      <td>CHN</td>\n",
       "      <td>NL</td>\n",
       "      <td>0.000000</td>\n",
       "    </tr>\n",
       "    <tr>\n",
       "      <th>62240</th>\n",
       "      <td>adamsri02</td>\n",
       "      <td>1985</td>\n",
       "      <td>1</td>\n",
       "      <td>SFN</td>\n",
       "      <td>NL</td>\n",
       "      <td>0.228346</td>\n",
       "    </tr>\n",
       "    <tr>\n",
       "      <th>62242</th>\n",
       "      <td>aguaylu01</td>\n",
       "      <td>1985</td>\n",
       "      <td>1</td>\n",
       "      <td>PHI</td>\n",
       "      <td>NL</td>\n",
       "      <td>0.377551</td>\n",
       "    </tr>\n",
       "    <tr>\n",
       "      <th>62243</th>\n",
       "      <td>aguilri01</td>\n",
       "      <td>1985</td>\n",
       "      <td>1</td>\n",
       "      <td>NYN</td>\n",
       "      <td>NL</td>\n",
       "      <td>0.297297</td>\n",
       "    </tr>\n",
       "    <tr>\n",
       "      <th>62244</th>\n",
       "      <td>aikenwi01</td>\n",
       "      <td>1985</td>\n",
       "      <td>1</td>\n",
       "      <td>TOR</td>\n",
       "      <td>AL</td>\n",
       "      <td>0.291667</td>\n",
       "    </tr>\n",
       "  </tbody>\n",
       "</table>\n",
       "</div>"
      ],
      "text/plain": [
       "        playerID  yearID  stint teamID lgID       OBP\n",
       "62238  abregjo01    1985      1    CHN   NL  0.000000\n",
       "62240  adamsri02    1985      1    SFN   NL  0.228346\n",
       "62242  aguaylu01    1985      1    PHI   NL  0.377551\n",
       "62243  aguilri01    1985      1    NYN   NL  0.297297\n",
       "62244  aikenwi01    1985      1    TOR   AL  0.291667"
      ]
     },
     "execution_count": 13,
     "metadata": {},
     "output_type": "execute_result"
    }
   ],
   "source": [
    "batting.head()"
   ]
  },
  {
   "cell_type": "markdown",
   "metadata": {},
   "source": [
    "Get rid of more useless things"
   ]
  },
  {
   "cell_type": "code",
   "execution_count": 14,
   "metadata": {
    "collapsed": true
   },
   "outputs": [],
   "source": [
    "batting = batting.drop(['lgID','stint'], axis=1)"
   ]
  },
  {
   "cell_type": "code",
   "execution_count": 15,
   "metadata": {
    "collapsed": false
   },
   "outputs": [
    {
     "data": {
      "text/html": [
       "<div>\n",
       "<table border=\"1\" class=\"dataframe\">\n",
       "  <thead>\n",
       "    <tr style=\"text-align: right;\">\n",
       "      <th></th>\n",
       "      <th>playerID</th>\n",
       "      <th>yearID</th>\n",
       "      <th>teamID</th>\n",
       "      <th>OBP</th>\n",
       "    </tr>\n",
       "  </thead>\n",
       "  <tbody>\n",
       "    <tr>\n",
       "      <th>62238</th>\n",
       "      <td>abregjo01</td>\n",
       "      <td>1985</td>\n",
       "      <td>CHN</td>\n",
       "      <td>0.000000</td>\n",
       "    </tr>\n",
       "    <tr>\n",
       "      <th>62240</th>\n",
       "      <td>adamsri02</td>\n",
       "      <td>1985</td>\n",
       "      <td>SFN</td>\n",
       "      <td>0.228346</td>\n",
       "    </tr>\n",
       "    <tr>\n",
       "      <th>62242</th>\n",
       "      <td>aguaylu01</td>\n",
       "      <td>1985</td>\n",
       "      <td>PHI</td>\n",
       "      <td>0.377551</td>\n",
       "    </tr>\n",
       "    <tr>\n",
       "      <th>62243</th>\n",
       "      <td>aguilri01</td>\n",
       "      <td>1985</td>\n",
       "      <td>NYN</td>\n",
       "      <td>0.297297</td>\n",
       "    </tr>\n",
       "    <tr>\n",
       "      <th>62244</th>\n",
       "      <td>aikenwi01</td>\n",
       "      <td>1985</td>\n",
       "      <td>TOR</td>\n",
       "      <td>0.291667</td>\n",
       "    </tr>\n",
       "  </tbody>\n",
       "</table>\n",
       "</div>"
      ],
      "text/plain": [
       "        playerID  yearID teamID       OBP\n",
       "62238  abregjo01    1985    CHN  0.000000\n",
       "62240  adamsri02    1985    SFN  0.228346\n",
       "62242  aguaylu01    1985    PHI  0.377551\n",
       "62243  aguilri01    1985    NYN  0.297297\n",
       "62244  aikenwi01    1985    TOR  0.291667"
      ]
     },
     "execution_count": 15,
     "metadata": {},
     "output_type": "execute_result"
    }
   ],
   "source": [
    "batting.head()"
   ]
  },
  {
   "cell_type": "markdown",
   "metadata": {},
   "source": [
    "Set the playerID as the index"
   ]
  },
  {
   "cell_type": "code",
   "execution_count": 16,
   "metadata": {
    "collapsed": false
   },
   "outputs": [],
   "source": [
    "batting.index = batting.pop('playerID')"
   ]
  },
  {
   "cell_type": "code",
   "execution_count": 17,
   "metadata": {
    "collapsed": false
   },
   "outputs": [
    {
     "data": {
      "text/html": [
       "<div>\n",
       "<table border=\"1\" class=\"dataframe\">\n",
       "  <thead>\n",
       "    <tr style=\"text-align: right;\">\n",
       "      <th></th>\n",
       "      <th>yearID</th>\n",
       "      <th>teamID</th>\n",
       "      <th>OBP</th>\n",
       "    </tr>\n",
       "    <tr>\n",
       "      <th>playerID</th>\n",
       "      <th></th>\n",
       "      <th></th>\n",
       "      <th></th>\n",
       "    </tr>\n",
       "  </thead>\n",
       "  <tbody>\n",
       "    <tr>\n",
       "      <th>abregjo01</th>\n",
       "      <td>1985</td>\n",
       "      <td>CHN</td>\n",
       "      <td>0.000000</td>\n",
       "    </tr>\n",
       "    <tr>\n",
       "      <th>adamsri02</th>\n",
       "      <td>1985</td>\n",
       "      <td>SFN</td>\n",
       "      <td>0.228346</td>\n",
       "    </tr>\n",
       "    <tr>\n",
       "      <th>aguaylu01</th>\n",
       "      <td>1985</td>\n",
       "      <td>PHI</td>\n",
       "      <td>0.377551</td>\n",
       "    </tr>\n",
       "    <tr>\n",
       "      <th>aguilri01</th>\n",
       "      <td>1985</td>\n",
       "      <td>NYN</td>\n",
       "      <td>0.297297</td>\n",
       "    </tr>\n",
       "    <tr>\n",
       "      <th>aikenwi01</th>\n",
       "      <td>1985</td>\n",
       "      <td>TOR</td>\n",
       "      <td>0.291667</td>\n",
       "    </tr>\n",
       "  </tbody>\n",
       "</table>\n",
       "</div>"
      ],
      "text/plain": [
       "           yearID teamID       OBP\n",
       "playerID                          \n",
       "abregjo01    1985    CHN  0.000000\n",
       "adamsri02    1985    SFN  0.228346\n",
       "aguaylu01    1985    PHI  0.377551\n",
       "aguilri01    1985    NYN  0.297297\n",
       "aikenwi01    1985    TOR  0.291667"
      ]
     },
     "execution_count": 17,
     "metadata": {},
     "output_type": "execute_result"
    }
   ],
   "source": [
    "batting.head()"
   ]
  },
  {
   "cell_type": "markdown",
   "metadata": {},
   "source": [
    "Get rid of \"perfect\" players"
   ]
  },
  {
   "cell_type": "code",
   "execution_count": 18,
   "metadata": {
    "collapsed": true
   },
   "outputs": [],
   "source": [
    "batting = batting[batting['OBP'] != 1.0]"
   ]
  },
  {
   "cell_type": "code",
   "execution_count": 19,
   "metadata": {
    "collapsed": false
   },
   "outputs": [],
   "source": [
    "salaries = pd.read_csv('data/Salaries.csv',index_col=3)"
   ]
  },
  {
   "cell_type": "code",
   "execution_count": 20,
   "metadata": {
    "collapsed": false
   },
   "outputs": [
    {
     "data": {
      "text/html": [
       "<div>\n",
       "<table border=\"1\" class=\"dataframe\">\n",
       "  <thead>\n",
       "    <tr style=\"text-align: right;\">\n",
       "      <th></th>\n",
       "      <th>yearID</th>\n",
       "      <th>teamID</th>\n",
       "      <th>lgID</th>\n",
       "      <th>salary</th>\n",
       "    </tr>\n",
       "    <tr>\n",
       "      <th>playerID</th>\n",
       "      <th></th>\n",
       "      <th></th>\n",
       "      <th></th>\n",
       "      <th></th>\n",
       "    </tr>\n",
       "  </thead>\n",
       "  <tbody>\n",
       "    <tr>\n",
       "      <th>barkele01</th>\n",
       "      <td>1985</td>\n",
       "      <td>ATL</td>\n",
       "      <td>NL</td>\n",
       "      <td>870000</td>\n",
       "    </tr>\n",
       "    <tr>\n",
       "      <th>bedrost01</th>\n",
       "      <td>1985</td>\n",
       "      <td>ATL</td>\n",
       "      <td>NL</td>\n",
       "      <td>550000</td>\n",
       "    </tr>\n",
       "    <tr>\n",
       "      <th>benedbr01</th>\n",
       "      <td>1985</td>\n",
       "      <td>ATL</td>\n",
       "      <td>NL</td>\n",
       "      <td>545000</td>\n",
       "    </tr>\n",
       "    <tr>\n",
       "      <th>campri01</th>\n",
       "      <td>1985</td>\n",
       "      <td>ATL</td>\n",
       "      <td>NL</td>\n",
       "      <td>633333</td>\n",
       "    </tr>\n",
       "    <tr>\n",
       "      <th>ceronri01</th>\n",
       "      <td>1985</td>\n",
       "      <td>ATL</td>\n",
       "      <td>NL</td>\n",
       "      <td>625000</td>\n",
       "    </tr>\n",
       "  </tbody>\n",
       "</table>\n",
       "</div>"
      ],
      "text/plain": [
       "           yearID teamID lgID  salary\n",
       "playerID                             \n",
       "barkele01    1985    ATL   NL  870000\n",
       "bedrost01    1985    ATL   NL  550000\n",
       "benedbr01    1985    ATL   NL  545000\n",
       "campri01     1985    ATL   NL  633333\n",
       "ceronri01    1985    ATL   NL  625000"
      ]
     },
     "execution_count": 20,
     "metadata": {},
     "output_type": "execute_result"
    }
   ],
   "source": [
    "salaries.head()"
   ]
  },
  {
   "cell_type": "code",
   "execution_count": 21,
   "metadata": {
    "collapsed": true
   },
   "outputs": [],
   "source": [
    "salaries = salaries.drop('lgID',axis=1)"
   ]
  },
  {
   "cell_type": "code",
   "execution_count": 22,
   "metadata": {
    "collapsed": false
   },
   "outputs": [
    {
     "data": {
      "text/html": [
       "<div>\n",
       "<table border=\"1\" class=\"dataframe\">\n",
       "  <thead>\n",
       "    <tr style=\"text-align: right;\">\n",
       "      <th></th>\n",
       "      <th>yearID</th>\n",
       "      <th>teamID</th>\n",
       "      <th>salary</th>\n",
       "    </tr>\n",
       "    <tr>\n",
       "      <th>playerID</th>\n",
       "      <th></th>\n",
       "      <th></th>\n",
       "      <th></th>\n",
       "    </tr>\n",
       "  </thead>\n",
       "  <tbody>\n",
       "    <tr>\n",
       "      <th>barkele01</th>\n",
       "      <td>1985</td>\n",
       "      <td>ATL</td>\n",
       "      <td>870000</td>\n",
       "    </tr>\n",
       "    <tr>\n",
       "      <th>bedrost01</th>\n",
       "      <td>1985</td>\n",
       "      <td>ATL</td>\n",
       "      <td>550000</td>\n",
       "    </tr>\n",
       "    <tr>\n",
       "      <th>benedbr01</th>\n",
       "      <td>1985</td>\n",
       "      <td>ATL</td>\n",
       "      <td>545000</td>\n",
       "    </tr>\n",
       "    <tr>\n",
       "      <th>campri01</th>\n",
       "      <td>1985</td>\n",
       "      <td>ATL</td>\n",
       "      <td>633333</td>\n",
       "    </tr>\n",
       "    <tr>\n",
       "      <th>ceronri01</th>\n",
       "      <td>1985</td>\n",
       "      <td>ATL</td>\n",
       "      <td>625000</td>\n",
       "    </tr>\n",
       "  </tbody>\n",
       "</table>\n",
       "</div>"
      ],
      "text/plain": [
       "           yearID teamID  salary\n",
       "playerID                        \n",
       "barkele01    1985    ATL  870000\n",
       "bedrost01    1985    ATL  550000\n",
       "benedbr01    1985    ATL  545000\n",
       "campri01     1985    ATL  633333\n",
       "ceronri01    1985    ATL  625000"
      ]
     },
     "execution_count": 22,
     "metadata": {},
     "output_type": "execute_result"
    }
   ],
   "source": [
    "salaries.head()"
   ]
  },
  {
   "cell_type": "code",
   "execution_count": 23,
   "metadata": {
    "collapsed": true
   },
   "outputs": [],
   "source": [
    "salaries_batting = salaries.merge(batting, left_index=True, right_index=True, on=['yearID','teamID'])"
   ]
  },
  {
   "cell_type": "code",
   "execution_count": 24,
   "metadata": {
    "collapsed": false
   },
   "outputs": [
    {
     "data": {
      "text/html": [
       "<div>\n",
       "<table border=\"1\" class=\"dataframe\">\n",
       "  <thead>\n",
       "    <tr style=\"text-align: right;\">\n",
       "      <th></th>\n",
       "      <th>yearID</th>\n",
       "      <th>teamID</th>\n",
       "      <th>salary</th>\n",
       "      <th>OBP</th>\n",
       "    </tr>\n",
       "    <tr>\n",
       "      <th>playerID</th>\n",
       "      <th></th>\n",
       "      <th></th>\n",
       "      <th></th>\n",
       "      <th></th>\n",
       "    </tr>\n",
       "  </thead>\n",
       "  <tbody>\n",
       "    <tr>\n",
       "      <th>aardsda01</th>\n",
       "      <td>2004</td>\n",
       "      <td>SFN</td>\n",
       "      <td>300000</td>\n",
       "      <td>0.0</td>\n",
       "    </tr>\n",
       "    <tr>\n",
       "      <th>aardsda01</th>\n",
       "      <td>2004</td>\n",
       "      <td>SFN</td>\n",
       "      <td>300000</td>\n",
       "      <td>0.0</td>\n",
       "    </tr>\n",
       "    <tr>\n",
       "      <th>aardsda01</th>\n",
       "      <td>2004</td>\n",
       "      <td>SFN</td>\n",
       "      <td>300000</td>\n",
       "      <td>0.0</td>\n",
       "    </tr>\n",
       "    <tr>\n",
       "      <th>aardsda01</th>\n",
       "      <td>2007</td>\n",
       "      <td>CHA</td>\n",
       "      <td>387500</td>\n",
       "      <td>0.0</td>\n",
       "    </tr>\n",
       "    <tr>\n",
       "      <th>aardsda01</th>\n",
       "      <td>2007</td>\n",
       "      <td>CHA</td>\n",
       "      <td>387500</td>\n",
       "      <td>0.0</td>\n",
       "    </tr>\n",
       "  </tbody>\n",
       "</table>\n",
       "</div>"
      ],
      "text/plain": [
       "           yearID teamID  salary  OBP\n",
       "playerID                             \n",
       "aardsda01    2004    SFN  300000  0.0\n",
       "aardsda01    2004    SFN  300000  0.0\n",
       "aardsda01    2004    SFN  300000  0.0\n",
       "aardsda01    2007    CHA  387500  0.0\n",
       "aardsda01    2007    CHA  387500  0.0"
      ]
     },
     "execution_count": 24,
     "metadata": {},
     "output_type": "execute_result"
    }
   ],
   "source": [
    "salaries_batting.head()"
   ]
  },
  {
   "cell_type": "code",
   "execution_count": 25,
   "metadata": {
    "collapsed": false
   },
   "outputs": [
    {
     "data": {
      "text/html": [
       "<div>\n",
       "<table border=\"1\" class=\"dataframe\">\n",
       "  <thead>\n",
       "    <tr style=\"text-align: right;\">\n",
       "      <th></th>\n",
       "      <th>yearID</th>\n",
       "      <th>teamID</th>\n",
       "      <th>salary</th>\n",
       "      <th>OBP</th>\n",
       "    </tr>\n",
       "    <tr>\n",
       "      <th>playerID</th>\n",
       "      <th></th>\n",
       "      <th></th>\n",
       "      <th></th>\n",
       "      <th></th>\n",
       "    </tr>\n",
       "  </thead>\n",
       "  <tbody>\n",
       "    <tr>\n",
       "      <th>zuvelpa01</th>\n",
       "      <td>1989</td>\n",
       "      <td>ATL</td>\n",
       "      <td>145000</td>\n",
       "      <td>0.310680</td>\n",
       "    </tr>\n",
       "    <tr>\n",
       "      <th>zuvelpa01</th>\n",
       "      <td>1989</td>\n",
       "      <td>ATL</td>\n",
       "      <td>145000</td>\n",
       "      <td>0.169811</td>\n",
       "    </tr>\n",
       "    <tr>\n",
       "      <th>zuvelpa01</th>\n",
       "      <td>1989</td>\n",
       "      <td>ATL</td>\n",
       "      <td>145000</td>\n",
       "      <td>0.176471</td>\n",
       "    </tr>\n",
       "    <tr>\n",
       "      <th>zuvelpa01</th>\n",
       "      <td>1989</td>\n",
       "      <td>ATL</td>\n",
       "      <td>145000</td>\n",
       "      <td>0.275362</td>\n",
       "    </tr>\n",
       "    <tr>\n",
       "      <th>zuvelpa01</th>\n",
       "      <td>1989</td>\n",
       "      <td>ATL</td>\n",
       "      <td>145000</td>\n",
       "      <td>0.300000</td>\n",
       "    </tr>\n",
       "  </tbody>\n",
       "</table>\n",
       "</div>"
      ],
      "text/plain": [
       "           yearID teamID  salary       OBP\n",
       "playerID                                  \n",
       "zuvelpa01    1989    ATL  145000  0.310680\n",
       "zuvelpa01    1989    ATL  145000  0.169811\n",
       "zuvelpa01    1989    ATL  145000  0.176471\n",
       "zuvelpa01    1989    ATL  145000  0.275362\n",
       "zuvelpa01    1989    ATL  145000  0.300000"
      ]
     },
     "execution_count": 25,
     "metadata": {},
     "output_type": "execute_result"
    }
   ],
   "source": [
    "salaries_batting.tail()"
   ]
  },
  {
   "cell_type": "code",
   "execution_count": 26,
   "metadata": {
    "collapsed": true
   },
   "outputs": [],
   "source": [
    "positions = pd.read_csv('data/Fielding.csv', index_col=0, usecols=['playerID','yearID','teamID','POS'])"
   ]
  },
  {
   "cell_type": "code",
   "execution_count": 27,
   "metadata": {
    "collapsed": false
   },
   "outputs": [
    {
     "data": {
      "text/html": [
       "<div>\n",
       "<table border=\"1\" class=\"dataframe\">\n",
       "  <thead>\n",
       "    <tr style=\"text-align: right;\">\n",
       "      <th></th>\n",
       "      <th>yearID</th>\n",
       "      <th>teamID</th>\n",
       "      <th>POS</th>\n",
       "    </tr>\n",
       "    <tr>\n",
       "      <th>playerID</th>\n",
       "      <th></th>\n",
       "      <th></th>\n",
       "      <th></th>\n",
       "    </tr>\n",
       "  </thead>\n",
       "  <tbody>\n",
       "    <tr>\n",
       "      <th>abercda01</th>\n",
       "      <td>1871</td>\n",
       "      <td>TRO</td>\n",
       "      <td>SS</td>\n",
       "    </tr>\n",
       "    <tr>\n",
       "      <th>addybo01</th>\n",
       "      <td>1871</td>\n",
       "      <td>RC1</td>\n",
       "      <td>2B</td>\n",
       "    </tr>\n",
       "    <tr>\n",
       "      <th>addybo01</th>\n",
       "      <td>1871</td>\n",
       "      <td>RC1</td>\n",
       "      <td>SS</td>\n",
       "    </tr>\n",
       "    <tr>\n",
       "      <th>allisar01</th>\n",
       "      <td>1871</td>\n",
       "      <td>CL1</td>\n",
       "      <td>2B</td>\n",
       "    </tr>\n",
       "    <tr>\n",
       "      <th>allisar01</th>\n",
       "      <td>1871</td>\n",
       "      <td>CL1</td>\n",
       "      <td>OF</td>\n",
       "    </tr>\n",
       "  </tbody>\n",
       "</table>\n",
       "</div>"
      ],
      "text/plain": [
       "           yearID teamID POS\n",
       "playerID                    \n",
       "abercda01    1871    TRO  SS\n",
       "addybo01     1871    RC1  2B\n",
       "addybo01     1871    RC1  SS\n",
       "allisar01    1871    CL1  2B\n",
       "allisar01    1871    CL1  OF"
      ]
     },
     "execution_count": 27,
     "metadata": {},
     "output_type": "execute_result"
    }
   ],
   "source": [
    "positions.head()"
   ]
  },
  {
   "cell_type": "code",
   "execution_count": 28,
   "metadata": {
    "collapsed": true
   },
   "outputs": [],
   "source": [
    "sal_bat_pos = salaries_batting.merge(positions, left_index=True, right_index=True, on=['yearID','teamID'])"
   ]
  },
  {
   "cell_type": "code",
   "execution_count": 29,
   "metadata": {
    "collapsed": false
   },
   "outputs": [
    {
     "data": {
      "text/html": [
       "<div>\n",
       "<table border=\"1\" class=\"dataframe\">\n",
       "  <thead>\n",
       "    <tr style=\"text-align: right;\">\n",
       "      <th></th>\n",
       "      <th>yearID</th>\n",
       "      <th>teamID</th>\n",
       "      <th>salary</th>\n",
       "      <th>OBP</th>\n",
       "      <th>POS</th>\n",
       "    </tr>\n",
       "    <tr>\n",
       "      <th>playerID</th>\n",
       "      <th></th>\n",
       "      <th></th>\n",
       "      <th></th>\n",
       "      <th></th>\n",
       "      <th></th>\n",
       "    </tr>\n",
       "  </thead>\n",
       "  <tbody>\n",
       "    <tr>\n",
       "      <th>aardsda01</th>\n",
       "      <td>2004</td>\n",
       "      <td>SFN</td>\n",
       "      <td>300000</td>\n",
       "      <td>0.0</td>\n",
       "      <td>P</td>\n",
       "    </tr>\n",
       "    <tr>\n",
       "      <th>aardsda01</th>\n",
       "      <td>2004</td>\n",
       "      <td>SFN</td>\n",
       "      <td>300000</td>\n",
       "      <td>0.0</td>\n",
       "      <td>P</td>\n",
       "    </tr>\n",
       "    <tr>\n",
       "      <th>aardsda01</th>\n",
       "      <td>2004</td>\n",
       "      <td>SFN</td>\n",
       "      <td>300000</td>\n",
       "      <td>0.0</td>\n",
       "      <td>P</td>\n",
       "    </tr>\n",
       "    <tr>\n",
       "      <th>aardsda01</th>\n",
       "      <td>2004</td>\n",
       "      <td>SFN</td>\n",
       "      <td>300000</td>\n",
       "      <td>0.0</td>\n",
       "      <td>P</td>\n",
       "    </tr>\n",
       "    <tr>\n",
       "      <th>aardsda01</th>\n",
       "      <td>2004</td>\n",
       "      <td>SFN</td>\n",
       "      <td>300000</td>\n",
       "      <td>0.0</td>\n",
       "      <td>P</td>\n",
       "    </tr>\n",
       "  </tbody>\n",
       "</table>\n",
       "</div>"
      ],
      "text/plain": [
       "           yearID teamID  salary  OBP POS\n",
       "playerID                                 \n",
       "aardsda01    2004    SFN  300000  0.0   P\n",
       "aardsda01    2004    SFN  300000  0.0   P\n",
       "aardsda01    2004    SFN  300000  0.0   P\n",
       "aardsda01    2004    SFN  300000  0.0   P\n",
       "aardsda01    2004    SFN  300000  0.0   P"
      ]
     },
     "execution_count": 29,
     "metadata": {},
     "output_type": "execute_result"
    }
   ],
   "source": [
    "sal_bat_pos.head()"
   ]
  },
  {
   "cell_type": "code",
   "execution_count": 30,
   "metadata": {
    "collapsed": true
   },
   "outputs": [],
   "source": [
    "names = pd.read_csv('data/Master.csv', index_col=0, usecols=['playerID','nameFirst','nameLast'])"
   ]
  },
  {
   "cell_type": "code",
   "execution_count": 31,
   "metadata": {
    "collapsed": false
   },
   "outputs": [
    {
     "data": {
      "text/html": [
       "<div>\n",
       "<table border=\"1\" class=\"dataframe\">\n",
       "  <thead>\n",
       "    <tr style=\"text-align: right;\">\n",
       "      <th></th>\n",
       "      <th>nameFirst</th>\n",
       "      <th>nameLast</th>\n",
       "    </tr>\n",
       "    <tr>\n",
       "      <th>playerID</th>\n",
       "      <th></th>\n",
       "      <th></th>\n",
       "    </tr>\n",
       "  </thead>\n",
       "  <tbody>\n",
       "    <tr>\n",
       "      <th>aardsda01</th>\n",
       "      <td>David</td>\n",
       "      <td>Aardsma</td>\n",
       "    </tr>\n",
       "    <tr>\n",
       "      <th>aaronha01</th>\n",
       "      <td>Hank</td>\n",
       "      <td>Aaron</td>\n",
       "    </tr>\n",
       "    <tr>\n",
       "      <th>aaronto01</th>\n",
       "      <td>Tommie</td>\n",
       "      <td>Aaron</td>\n",
       "    </tr>\n",
       "    <tr>\n",
       "      <th>aasedo01</th>\n",
       "      <td>Don</td>\n",
       "      <td>Aase</td>\n",
       "    </tr>\n",
       "    <tr>\n",
       "      <th>abadan01</th>\n",
       "      <td>Andy</td>\n",
       "      <td>Abad</td>\n",
       "    </tr>\n",
       "  </tbody>\n",
       "</table>\n",
       "</div>"
      ],
      "text/plain": [
       "          nameFirst nameLast\n",
       "playerID                    \n",
       "aardsda01     David  Aardsma\n",
       "aaronha01      Hank    Aaron\n",
       "aaronto01    Tommie    Aaron\n",
       "aasedo01        Don     Aase\n",
       "abadan01       Andy     Abad"
      ]
     },
     "execution_count": 31,
     "metadata": {},
     "output_type": "execute_result"
    }
   ],
   "source": [
    "names.head()"
   ]
  },
  {
   "cell_type": "code",
   "execution_count": 32,
   "metadata": {
    "collapsed": true
   },
   "outputs": [],
   "source": [
    "master = names.merge(sal_bat_pos, left_index=True, right_index=True)"
   ]
  },
  {
   "cell_type": "code",
   "execution_count": 33,
   "metadata": {
    "collapsed": false
   },
   "outputs": [
    {
     "data": {
      "text/html": [
       "<div>\n",
       "<table border=\"1\" class=\"dataframe\">\n",
       "  <thead>\n",
       "    <tr style=\"text-align: right;\">\n",
       "      <th></th>\n",
       "      <th>nameFirst</th>\n",
       "      <th>nameLast</th>\n",
       "      <th>yearID</th>\n",
       "      <th>teamID</th>\n",
       "      <th>salary</th>\n",
       "      <th>OBP</th>\n",
       "      <th>POS</th>\n",
       "    </tr>\n",
       "    <tr>\n",
       "      <th>playerID</th>\n",
       "      <th></th>\n",
       "      <th></th>\n",
       "      <th></th>\n",
       "      <th></th>\n",
       "      <th></th>\n",
       "      <th></th>\n",
       "      <th></th>\n",
       "    </tr>\n",
       "  </thead>\n",
       "  <tbody>\n",
       "    <tr>\n",
       "      <th>aardsda01</th>\n",
       "      <td>David</td>\n",
       "      <td>Aardsma</td>\n",
       "      <td>2004</td>\n",
       "      <td>SFN</td>\n",
       "      <td>300000</td>\n",
       "      <td>0.0</td>\n",
       "      <td>P</td>\n",
       "    </tr>\n",
       "    <tr>\n",
       "      <th>aardsda01</th>\n",
       "      <td>David</td>\n",
       "      <td>Aardsma</td>\n",
       "      <td>2004</td>\n",
       "      <td>SFN</td>\n",
       "      <td>300000</td>\n",
       "      <td>0.0</td>\n",
       "      <td>P</td>\n",
       "    </tr>\n",
       "    <tr>\n",
       "      <th>aardsda01</th>\n",
       "      <td>David</td>\n",
       "      <td>Aardsma</td>\n",
       "      <td>2004</td>\n",
       "      <td>SFN</td>\n",
       "      <td>300000</td>\n",
       "      <td>0.0</td>\n",
       "      <td>P</td>\n",
       "    </tr>\n",
       "    <tr>\n",
       "      <th>aardsda01</th>\n",
       "      <td>David</td>\n",
       "      <td>Aardsma</td>\n",
       "      <td>2004</td>\n",
       "      <td>SFN</td>\n",
       "      <td>300000</td>\n",
       "      <td>0.0</td>\n",
       "      <td>P</td>\n",
       "    </tr>\n",
       "    <tr>\n",
       "      <th>aardsda01</th>\n",
       "      <td>David</td>\n",
       "      <td>Aardsma</td>\n",
       "      <td>2004</td>\n",
       "      <td>SFN</td>\n",
       "      <td>300000</td>\n",
       "      <td>0.0</td>\n",
       "      <td>P</td>\n",
       "    </tr>\n",
       "  </tbody>\n",
       "</table>\n",
       "</div>"
      ],
      "text/plain": [
       "          nameFirst nameLast  yearID teamID  salary  OBP POS\n",
       "playerID                                                    \n",
       "aardsda01     David  Aardsma    2004    SFN  300000  0.0   P\n",
       "aardsda01     David  Aardsma    2004    SFN  300000  0.0   P\n",
       "aardsda01     David  Aardsma    2004    SFN  300000  0.0   P\n",
       "aardsda01     David  Aardsma    2004    SFN  300000  0.0   P\n",
       "aardsda01     David  Aardsma    2004    SFN  300000  0.0   P"
      ]
     },
     "execution_count": 33,
     "metadata": {},
     "output_type": "execute_result"
    }
   ],
   "source": [
    "master.head()"
   ]
  },
  {
   "cell_type": "code",
   "execution_count": 34,
   "metadata": {
    "collapsed": false
   },
   "outputs": [
    {
     "data": {
      "text/html": [
       "<div>\n",
       "<table border=\"1\" class=\"dataframe\">\n",
       "  <thead>\n",
       "    <tr style=\"text-align: right;\">\n",
       "      <th></th>\n",
       "      <th>nameFirst</th>\n",
       "      <th>nameLast</th>\n",
       "      <th>yearID</th>\n",
       "      <th>teamID</th>\n",
       "      <th>salary</th>\n",
       "      <th>OBP</th>\n",
       "      <th>POS</th>\n",
       "    </tr>\n",
       "    <tr>\n",
       "      <th>playerID</th>\n",
       "      <th></th>\n",
       "      <th></th>\n",
       "      <th></th>\n",
       "      <th></th>\n",
       "      <th></th>\n",
       "      <th></th>\n",
       "      <th></th>\n",
       "    </tr>\n",
       "  </thead>\n",
       "  <tbody>\n",
       "    <tr>\n",
       "      <th>zuvelpa01</th>\n",
       "      <td>Paul</td>\n",
       "      <td>Zuvella</td>\n",
       "      <td>1989</td>\n",
       "      <td>ATL</td>\n",
       "      <td>145000</td>\n",
       "      <td>0.3</td>\n",
       "      <td>SS</td>\n",
       "    </tr>\n",
       "    <tr>\n",
       "      <th>zuvelpa01</th>\n",
       "      <td>Paul</td>\n",
       "      <td>Zuvella</td>\n",
       "      <td>1989</td>\n",
       "      <td>ATL</td>\n",
       "      <td>145000</td>\n",
       "      <td>0.3</td>\n",
       "      <td>3B</td>\n",
       "    </tr>\n",
       "    <tr>\n",
       "      <th>zuvelpa01</th>\n",
       "      <td>Paul</td>\n",
       "      <td>Zuvella</td>\n",
       "      <td>1989</td>\n",
       "      <td>ATL</td>\n",
       "      <td>145000</td>\n",
       "      <td>0.3</td>\n",
       "      <td>DH</td>\n",
       "    </tr>\n",
       "    <tr>\n",
       "      <th>zuvelpa01</th>\n",
       "      <td>Paul</td>\n",
       "      <td>Zuvella</td>\n",
       "      <td>1989</td>\n",
       "      <td>ATL</td>\n",
       "      <td>145000</td>\n",
       "      <td>0.3</td>\n",
       "      <td>SS</td>\n",
       "    </tr>\n",
       "    <tr>\n",
       "      <th>zuvelpa01</th>\n",
       "      <td>Paul</td>\n",
       "      <td>Zuvella</td>\n",
       "      <td>1989</td>\n",
       "      <td>ATL</td>\n",
       "      <td>145000</td>\n",
       "      <td>0.3</td>\n",
       "      <td>3B</td>\n",
       "    </tr>\n",
       "  </tbody>\n",
       "</table>\n",
       "</div>"
      ],
      "text/plain": [
       "          nameFirst nameLast  yearID teamID  salary  OBP POS\n",
       "playerID                                                    \n",
       "zuvelpa01      Paul  Zuvella    1989    ATL  145000  0.3  SS\n",
       "zuvelpa01      Paul  Zuvella    1989    ATL  145000  0.3  3B\n",
       "zuvelpa01      Paul  Zuvella    1989    ATL  145000  0.3  DH\n",
       "zuvelpa01      Paul  Zuvella    1989    ATL  145000  0.3  SS\n",
       "zuvelpa01      Paul  Zuvella    1989    ATL  145000  0.3  3B"
      ]
     },
     "execution_count": 34,
     "metadata": {},
     "output_type": "execute_result"
    }
   ],
   "source": [
    "master.tail()"
   ]
  },
  {
   "cell_type": "markdown",
   "metadata": {},
   "source": [
    "lolwut is going on with the dooplicate valooz?"
   ]
  },
  {
   "cell_type": "code",
   "execution_count": 35,
   "metadata": {
    "collapsed": true
   },
   "outputs": [],
   "source": [
    "master = master.drop_duplicates()"
   ]
  },
  {
   "cell_type": "code",
   "execution_count": 36,
   "metadata": {
    "collapsed": false
   },
   "outputs": [
    {
     "data": {
      "text/html": [
       "<div>\n",
       "<table border=\"1\" class=\"dataframe\">\n",
       "  <thead>\n",
       "    <tr style=\"text-align: right;\">\n",
       "      <th></th>\n",
       "      <th>nameFirst</th>\n",
       "      <th>nameLast</th>\n",
       "      <th>yearID</th>\n",
       "      <th>teamID</th>\n",
       "      <th>salary</th>\n",
       "      <th>OBP</th>\n",
       "      <th>POS</th>\n",
       "    </tr>\n",
       "    <tr>\n",
       "      <th>playerID</th>\n",
       "      <th></th>\n",
       "      <th></th>\n",
       "      <th></th>\n",
       "      <th></th>\n",
       "      <th></th>\n",
       "      <th></th>\n",
       "      <th></th>\n",
       "    </tr>\n",
       "  </thead>\n",
       "  <tbody>\n",
       "    <tr>\n",
       "      <th>aardsda01</th>\n",
       "      <td>David</td>\n",
       "      <td>Aardsma</td>\n",
       "      <td>2004</td>\n",
       "      <td>SFN</td>\n",
       "      <td>300000</td>\n",
       "      <td>0.0</td>\n",
       "      <td>P</td>\n",
       "    </tr>\n",
       "    <tr>\n",
       "      <th>aardsda01</th>\n",
       "      <td>David</td>\n",
       "      <td>Aardsma</td>\n",
       "      <td>2007</td>\n",
       "      <td>CHA</td>\n",
       "      <td>387500</td>\n",
       "      <td>0.0</td>\n",
       "      <td>P</td>\n",
       "    </tr>\n",
       "    <tr>\n",
       "      <th>aardsda01</th>\n",
       "      <td>David</td>\n",
       "      <td>Aardsma</td>\n",
       "      <td>2008</td>\n",
       "      <td>BOS</td>\n",
       "      <td>403250</td>\n",
       "      <td>0.0</td>\n",
       "      <td>P</td>\n",
       "    </tr>\n",
       "    <tr>\n",
       "      <th>aardsda01</th>\n",
       "      <td>David</td>\n",
       "      <td>Aardsma</td>\n",
       "      <td>2009</td>\n",
       "      <td>SEA</td>\n",
       "      <td>419000</td>\n",
       "      <td>0.0</td>\n",
       "      <td>P</td>\n",
       "    </tr>\n",
       "    <tr>\n",
       "      <th>aardsda01</th>\n",
       "      <td>David</td>\n",
       "      <td>Aardsma</td>\n",
       "      <td>2010</td>\n",
       "      <td>SEA</td>\n",
       "      <td>2750000</td>\n",
       "      <td>0.0</td>\n",
       "      <td>P</td>\n",
       "    </tr>\n",
       "  </tbody>\n",
       "</table>\n",
       "</div>"
      ],
      "text/plain": [
       "          nameFirst nameLast  yearID teamID   salary  OBP POS\n",
       "playerID                                                     \n",
       "aardsda01     David  Aardsma    2004    SFN   300000  0.0   P\n",
       "aardsda01     David  Aardsma    2007    CHA   387500  0.0   P\n",
       "aardsda01     David  Aardsma    2008    BOS   403250  0.0   P\n",
       "aardsda01     David  Aardsma    2009    SEA   419000  0.0   P\n",
       "aardsda01     David  Aardsma    2010    SEA  2750000  0.0   P"
      ]
     },
     "execution_count": 36,
     "metadata": {},
     "output_type": "execute_result"
    }
   ],
   "source": [
    "master.head()"
   ]
  },
  {
   "cell_type": "code",
   "execution_count": 37,
   "metadata": {
    "collapsed": false
   },
   "outputs": [
    {
     "name": "stderr",
     "output_type": "stream",
     "text": [
      "/usr/local/lib/python3.5/site-packages/ipykernel/__main__.py:1: FutureWarning: sort(columns=....) is deprecated, use sort_values(by=.....)\n",
      "  if __name__ == '__main__':\n"
     ]
    }
   ],
   "source": [
    "master = master.sort(['salary', 'OBP'],ascending=[True, False])"
   ]
  },
  {
   "cell_type": "code",
   "execution_count": 38,
   "metadata": {
    "collapsed": false
   },
   "outputs": [
    {
     "data": {
      "text/html": [
       "<div>\n",
       "<table border=\"1\" class=\"dataframe\">\n",
       "  <thead>\n",
       "    <tr style=\"text-align: right;\">\n",
       "      <th></th>\n",
       "      <th>nameFirst</th>\n",
       "      <th>nameLast</th>\n",
       "      <th>yearID</th>\n",
       "      <th>teamID</th>\n",
       "      <th>salary</th>\n",
       "      <th>OBP</th>\n",
       "      <th>POS</th>\n",
       "    </tr>\n",
       "    <tr>\n",
       "      <th>playerID</th>\n",
       "      <th></th>\n",
       "      <th></th>\n",
       "      <th></th>\n",
       "      <th></th>\n",
       "      <th></th>\n",
       "      <th></th>\n",
       "      <th></th>\n",
       "    </tr>\n",
       "  </thead>\n",
       "  <tbody>\n",
       "    <tr>\n",
       "      <th>jamesdi01</th>\n",
       "      <td>Dion</td>\n",
       "      <td>James</td>\n",
       "      <td>1993</td>\n",
       "      <td>NYA</td>\n",
       "      <td>0</td>\n",
       "      <td>0.397188</td>\n",
       "      <td>CF</td>\n",
       "    </tr>\n",
       "    <tr>\n",
       "      <th>jamesdi01</th>\n",
       "      <td>Dion</td>\n",
       "      <td>James</td>\n",
       "      <td>1993</td>\n",
       "      <td>NYA</td>\n",
       "      <td>0</td>\n",
       "      <td>0.397188</td>\n",
       "      <td>DH</td>\n",
       "    </tr>\n",
       "    <tr>\n",
       "      <th>jamesdi01</th>\n",
       "      <td>Dion</td>\n",
       "      <td>James</td>\n",
       "      <td>1993</td>\n",
       "      <td>NYA</td>\n",
       "      <td>0</td>\n",
       "      <td>0.397188</td>\n",
       "      <td>LF</td>\n",
       "    </tr>\n",
       "    <tr>\n",
       "      <th>jamesdi01</th>\n",
       "      <td>Dion</td>\n",
       "      <td>James</td>\n",
       "      <td>1993</td>\n",
       "      <td>NYA</td>\n",
       "      <td>0</td>\n",
       "      <td>0.397188</td>\n",
       "      <td>OF</td>\n",
       "    </tr>\n",
       "    <tr>\n",
       "      <th>jamesdi01</th>\n",
       "      <td>Dion</td>\n",
       "      <td>James</td>\n",
       "      <td>1993</td>\n",
       "      <td>NYA</td>\n",
       "      <td>0</td>\n",
       "      <td>0.397188</td>\n",
       "      <td>RF</td>\n",
       "    </tr>\n",
       "  </tbody>\n",
       "</table>\n",
       "</div>"
      ],
      "text/plain": [
       "          nameFirst nameLast  yearID teamID  salary       OBP POS\n",
       "playerID                                                         \n",
       "jamesdi01      Dion    James    1993    NYA       0  0.397188  CF\n",
       "jamesdi01      Dion    James    1993    NYA       0  0.397188  DH\n",
       "jamesdi01      Dion    James    1993    NYA       0  0.397188  LF\n",
       "jamesdi01      Dion    James    1993    NYA       0  0.397188  OF\n",
       "jamesdi01      Dion    James    1993    NYA       0  0.397188  RF"
      ]
     },
     "execution_count": 38,
     "metadata": {},
     "output_type": "execute_result"
    }
   ],
   "source": [
    "master.head()"
   ]
  },
  {
   "cell_type": "markdown",
   "metadata": {},
   "source": [
    "Seriously, who plays for free?"
   ]
  },
  {
   "cell_type": "code",
   "execution_count": 39,
   "metadata": {
    "collapsed": true
   },
   "outputs": [],
   "source": [
    "master = master[master['salary'] != 0]"
   ]
  },
  {
   "cell_type": "code",
   "execution_count": 40,
   "metadata": {
    "collapsed": false
   },
   "outputs": [
    {
     "data": {
      "text/html": [
       "<div>\n",
       "<table border=\"1\" class=\"dataframe\">\n",
       "  <thead>\n",
       "    <tr style=\"text-align: right;\">\n",
       "      <th></th>\n",
       "      <th>nameFirst</th>\n",
       "      <th>nameLast</th>\n",
       "      <th>yearID</th>\n",
       "      <th>teamID</th>\n",
       "      <th>salary</th>\n",
       "      <th>OBP</th>\n",
       "      <th>POS</th>\n",
       "    </tr>\n",
       "    <tr>\n",
       "      <th>playerID</th>\n",
       "      <th></th>\n",
       "      <th></th>\n",
       "      <th></th>\n",
       "      <th></th>\n",
       "      <th></th>\n",
       "      <th></th>\n",
       "      <th></th>\n",
       "    </tr>\n",
       "  </thead>\n",
       "  <tbody>\n",
       "    <tr>\n",
       "      <th>silveda01</th>\n",
       "      <td>Dave</td>\n",
       "      <td>Silvestri</td>\n",
       "      <td>1993</td>\n",
       "      <td>NYA</td>\n",
       "      <td>10900</td>\n",
       "      <td>0.423077</td>\n",
       "      <td>SS</td>\n",
       "    </tr>\n",
       "    <tr>\n",
       "      <th>silveda01</th>\n",
       "      <td>Dave</td>\n",
       "      <td>Silvestri</td>\n",
       "      <td>1993</td>\n",
       "      <td>NYA</td>\n",
       "      <td>10900</td>\n",
       "      <td>0.423077</td>\n",
       "      <td>3B</td>\n",
       "    </tr>\n",
       "    <tr>\n",
       "      <th>silveda01</th>\n",
       "      <td>Dave</td>\n",
       "      <td>Silvestri</td>\n",
       "      <td>1993</td>\n",
       "      <td>NYA</td>\n",
       "      <td>10900</td>\n",
       "      <td>0.423077</td>\n",
       "      <td>2B</td>\n",
       "    </tr>\n",
       "    <tr>\n",
       "      <th>silveda01</th>\n",
       "      <td>Dave</td>\n",
       "      <td>Silvestri</td>\n",
       "      <td>1993</td>\n",
       "      <td>NYA</td>\n",
       "      <td>10900</td>\n",
       "      <td>0.423077</td>\n",
       "      <td>1B</td>\n",
       "    </tr>\n",
       "    <tr>\n",
       "      <th>silveda01</th>\n",
       "      <td>Dave</td>\n",
       "      <td>Silvestri</td>\n",
       "      <td>1993</td>\n",
       "      <td>NYA</td>\n",
       "      <td>10900</td>\n",
       "      <td>0.423077</td>\n",
       "      <td>DH</td>\n",
       "    </tr>\n",
       "  </tbody>\n",
       "</table>\n",
       "</div>"
      ],
      "text/plain": [
       "          nameFirst   nameLast  yearID teamID  salary       OBP POS\n",
       "playerID                                                           \n",
       "silveda01      Dave  Silvestri    1993    NYA   10900  0.423077  SS\n",
       "silveda01      Dave  Silvestri    1993    NYA   10900  0.423077  3B\n",
       "silveda01      Dave  Silvestri    1993    NYA   10900  0.423077  2B\n",
       "silveda01      Dave  Silvestri    1993    NYA   10900  0.423077  1B\n",
       "silveda01      Dave  Silvestri    1993    NYA   10900  0.423077  DH"
      ]
     },
     "execution_count": 40,
     "metadata": {},
     "output_type": "execute_result"
    }
   ],
   "source": [
    "master.head()"
   ]
  },
  {
   "cell_type": "markdown",
   "metadata": {
    "collapsed": true
   },
   "source": [
    "A good measure of a player's value might be OBP/$. Let's create that in our master dataframe.\n",
    "    "
   ]
  },
  {
   "cell_type": "code",
   "execution_count": 101,
   "metadata": {
    "collapsed": true
   },
   "outputs": [],
   "source": [
    "master['OBP/$'] = (master['OBP'] / master['salary']) * 100000"
   ]
  },
  {
   "cell_type": "code",
   "execution_count": 102,
   "metadata": {
    "collapsed": false
   },
   "outputs": [
    {
     "data": {
      "text/html": [
       "<div>\n",
       "<table border=\"1\" class=\"dataframe\">\n",
       "  <thead>\n",
       "    <tr style=\"text-align: right;\">\n",
       "      <th></th>\n",
       "      <th>nameFirst</th>\n",
       "      <th>nameLast</th>\n",
       "      <th>yearID</th>\n",
       "      <th>teamID</th>\n",
       "      <th>salary</th>\n",
       "      <th>OBP</th>\n",
       "      <th>POS</th>\n",
       "      <th>OBP/$</th>\n",
       "    </tr>\n",
       "    <tr>\n",
       "      <th>playerID</th>\n",
       "      <th></th>\n",
       "      <th></th>\n",
       "      <th></th>\n",
       "      <th></th>\n",
       "      <th></th>\n",
       "      <th></th>\n",
       "      <th></th>\n",
       "      <th></th>\n",
       "    </tr>\n",
       "  </thead>\n",
       "  <tbody>\n",
       "    <tr>\n",
       "      <th>silveda01</th>\n",
       "      <td>Dave</td>\n",
       "      <td>Silvestri</td>\n",
       "      <td>1993</td>\n",
       "      <td>NYA</td>\n",
       "      <td>10900</td>\n",
       "      <td>0.423077</td>\n",
       "      <td>SS</td>\n",
       "      <td>3.88144</td>\n",
       "    </tr>\n",
       "    <tr>\n",
       "      <th>silveda01</th>\n",
       "      <td>Dave</td>\n",
       "      <td>Silvestri</td>\n",
       "      <td>1993</td>\n",
       "      <td>NYA</td>\n",
       "      <td>10900</td>\n",
       "      <td>0.423077</td>\n",
       "      <td>3B</td>\n",
       "      <td>3.88144</td>\n",
       "    </tr>\n",
       "    <tr>\n",
       "      <th>silveda01</th>\n",
       "      <td>Dave</td>\n",
       "      <td>Silvestri</td>\n",
       "      <td>1993</td>\n",
       "      <td>NYA</td>\n",
       "      <td>10900</td>\n",
       "      <td>0.423077</td>\n",
       "      <td>2B</td>\n",
       "      <td>3.88144</td>\n",
       "    </tr>\n",
       "    <tr>\n",
       "      <th>silveda01</th>\n",
       "      <td>Dave</td>\n",
       "      <td>Silvestri</td>\n",
       "      <td>1993</td>\n",
       "      <td>NYA</td>\n",
       "      <td>10900</td>\n",
       "      <td>0.423077</td>\n",
       "      <td>1B</td>\n",
       "      <td>3.88144</td>\n",
       "    </tr>\n",
       "    <tr>\n",
       "      <th>silveda01</th>\n",
       "      <td>Dave</td>\n",
       "      <td>Silvestri</td>\n",
       "      <td>1993</td>\n",
       "      <td>NYA</td>\n",
       "      <td>10900</td>\n",
       "      <td>0.423077</td>\n",
       "      <td>DH</td>\n",
       "      <td>3.88144</td>\n",
       "    </tr>\n",
       "  </tbody>\n",
       "</table>\n",
       "</div>"
      ],
      "text/plain": [
       "          nameFirst   nameLast  yearID teamID  salary       OBP POS    OBP/$\n",
       "playerID                                                                    \n",
       "silveda01      Dave  Silvestri    1993    NYA   10900  0.423077  SS  3.88144\n",
       "silveda01      Dave  Silvestri    1993    NYA   10900  0.423077  3B  3.88144\n",
       "silveda01      Dave  Silvestri    1993    NYA   10900  0.423077  2B  3.88144\n",
       "silveda01      Dave  Silvestri    1993    NYA   10900  0.423077  1B  3.88144\n",
       "silveda01      Dave  Silvestri    1993    NYA   10900  0.423077  DH  3.88144"
      ]
     },
     "execution_count": 102,
     "metadata": {},
     "output_type": "execute_result"
    }
   ],
   "source": [
    "master.head()"
   ]
  },
  {
   "cell_type": "code",
   "execution_count": 112,
   "metadata": {
    "collapsed": true
   },
   "outputs": [],
   "source": [
    "def best_player(df, year, pos):\n",
    "    grouped = df.groupby('yearID')\n",
    "    t = (group.sort_values(by='OBP/$',ascending=False) for yr,group in grouped)\n",
    "    topobpperdoll = pd.DataFrame()\n",
    "    for line in t:\n",
    "        topobpperdoll = topobpperdoll.append(line)\n",
    "    return topobpperdoll[(topobpperdoll.yearID == year) & (topobpperdoll.POS == pos)][:1]\n",
    "\n"
   ]
  },
  {
   "cell_type": "code",
   "execution_count": 113,
   "metadata": {
    "collapsed": false
   },
   "outputs": [],
   "source": [
    "kkv = best_player(master, 2005, 'SS')"
   ]
  },
  {
   "cell_type": "code",
   "execution_count": 114,
   "metadata": {
    "collapsed": false
   },
   "outputs": [
    {
     "data": {
      "text/html": [
       "<div>\n",
       "<table border=\"1\" class=\"dataframe\">\n",
       "  <thead>\n",
       "    <tr style=\"text-align: right;\">\n",
       "      <th></th>\n",
       "      <th>nameFirst</th>\n",
       "      <th>nameLast</th>\n",
       "      <th>yearID</th>\n",
       "      <th>teamID</th>\n",
       "      <th>salary</th>\n",
       "      <th>OBP</th>\n",
       "      <th>POS</th>\n",
       "      <th>OBP/$</th>\n",
       "    </tr>\n",
       "    <tr>\n",
       "      <th>playerID</th>\n",
       "      <th></th>\n",
       "      <th></th>\n",
       "      <th></th>\n",
       "      <th></th>\n",
       "      <th></th>\n",
       "      <th></th>\n",
       "      <th></th>\n",
       "      <th></th>\n",
       "    </tr>\n",
       "  </thead>\n",
       "  <tbody>\n",
       "    <tr>\n",
       "      <th>amezaal01</th>\n",
       "      <td>Alfredo</td>\n",
       "      <td>Amezaga</td>\n",
       "      <td>2005</td>\n",
       "      <td>COL</td>\n",
       "      <td>320000</td>\n",
       "      <td>0.538462</td>\n",
       "      <td>SS</td>\n",
       "      <td>0.168269</td>\n",
       "    </tr>\n",
       "  </tbody>\n",
       "</table>\n",
       "</div>"
      ],
      "text/plain": [
       "          nameFirst nameLast  yearID teamID  salary       OBP POS     OBP/$\n",
       "playerID                                                                   \n",
       "amezaal01   Alfredo  Amezaga    2005    COL  320000  0.538462  SS  0.168269"
      ]
     },
     "execution_count": 114,
     "metadata": {},
     "output_type": "execute_result"
    }
   ],
   "source": [
    "kkv"
   ]
  },
  {
   "cell_type": "code",
   "execution_count": null,
   "metadata": {
    "collapsed": true
   },
   "outputs": [],
   "source": []
  }
 ],
 "metadata": {
  "kernelspec": {
   "display_name": "Python 3",
   "language": "python",
   "name": "python3"
  },
  "language_info": {
   "codemirror_mode": {
    "name": "ipython",
    "version": 3
   },
   "file_extension": ".py",
   "mimetype": "text/x-python",
   "name": "python",
   "nbconvert_exporter": "python",
   "pygments_lexer": "ipython3",
   "version": "3.5.1"
  }
 },
 "nbformat": 4,
 "nbformat_minor": 0
}
