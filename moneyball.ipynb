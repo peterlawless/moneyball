{
 "cells": [
  {
   "cell_type": "markdown",
   "metadata": {},
   "source": [
    "#### Install all the Things"
   ]
  },
  {
   "cell_type": "code",
   "execution_count": 1,
   "metadata": {
    "collapsed": true
   },
   "outputs": [],
   "source": [
    "import pandas as pd"
   ]
  },
  {
   "cell_type": "markdown",
   "metadata": {},
   "source": [
    "#### Read all the Data"
   ]
  },
  {
   "cell_type": "markdown",
   "metadata": {},
   "source": [
    "Batting"
   ]
  },
  {
   "cell_type": "code",
   "execution_count": 2,
   "metadata": {
    "collapsed": true
   },
   "outputs": [],
   "source": [
    "batting_cols = ['playerID','yearID','teamID','H','BB','HBP','AB','SF']\n",
    "batting = pd.read_csv('data/Batting.csv',usecols=batting_cols)"
   ]
  },
  {
   "cell_type": "markdown",
   "metadata": {},
   "source": [
    "Salary"
   ]
  },
  {
   "cell_type": "code",
   "execution_count": 3,
   "metadata": {
    "collapsed": true
   },
   "outputs": [],
   "source": [
    "salary_cols = ['playerID','yearID','teamID','salary']\n",
    "salary = pd.read_csv('data/Salaries.csv',usecols=salary_cols)"
   ]
  },
  {
   "cell_type": "markdown",
   "metadata": {},
   "source": [
    "Player Names"
   ]
  },
  {
   "cell_type": "code",
   "execution_count": 4,
   "metadata": {
    "collapsed": true
   },
   "outputs": [],
   "source": [
    "player_cols = ['playerID','nameFirst','nameLast']\n",
    "players = pd.read_csv('data/Master.csv',usecols=player_cols)"
   ]
  },
  {
   "cell_type": "markdown",
   "metadata": {},
   "source": [
    "Positions"
   ]
  },
  {
   "cell_type": "code",
   "execution_count": 5,
   "metadata": {
    "collapsed": true
   },
   "outputs": [],
   "source": [
    "positions_cols = ['playerID', 'yearID', 'teamID', 'G_p', 'G_c',\n",
    "                 'G_1b', 'G_2b', 'G_3b', 'G_ss', 'G_lf', 'G_cf',\n",
    "                 'G_rf']\n",
    "positions = pd.read_csv('data/Appearances.csv',usecols=positions_cols)"
   ]
  },
  {
   "cell_type": "markdown",
   "metadata": {},
   "source": [
    "#### Calculate OBP in Batting DF, then remove unnecessary data"
   ]
  },
  {
   "cell_type": "code",
   "execution_count": 6,
   "metadata": {
    "collapsed": true
   },
   "outputs": [],
   "source": [
    "num = batting.H + batting.BB + batting.HBP\n",
    "denom = batting.AB + batting.BB + batting.HBP + batting.SF\n",
    "batting['OBP'] = num / denom"
   ]
  },
  {
   "cell_type": "code",
   "execution_count": 7,
   "metadata": {
    "collapsed": false
   },
   "outputs": [],
   "source": [
    "batting = batting.drop(['AB', 'H', 'BB', 'HBP', 'SF'],axis=1)\n",
    "batting = batting.dropna()"
   ]
  },
  {
   "cell_type": "markdown",
   "metadata": {},
   "source": [
    "#### Merge all the Things"
   ]
  },
  {
   "cell_type": "code",
   "execution_count": 8,
   "metadata": {
    "collapsed": false
   },
   "outputs": [
    {
     "data": {
      "text/html": [
       "<div>\n",
       "<table border=\"1\" class=\"dataframe\">\n",
       "  <thead>\n",
       "    <tr style=\"text-align: right;\">\n",
       "      <th></th>\n",
       "      <th>playerID</th>\n",
       "      <th>yearID</th>\n",
       "      <th>teamID</th>\n",
       "      <th>OBP</th>\n",
       "      <th>nameFirst</th>\n",
       "      <th>nameLast</th>\n",
       "    </tr>\n",
       "  </thead>\n",
       "  <tbody>\n",
       "    <tr>\n",
       "      <th>0</th>\n",
       "      <td>aaronha01</td>\n",
       "      <td>1954</td>\n",
       "      <td>ML1</td>\n",
       "      <td>0.322068</td>\n",
       "      <td>Hank</td>\n",
       "      <td>Aaron</td>\n",
       "    </tr>\n",
       "    <tr>\n",
       "      <th>1</th>\n",
       "      <td>aaronha01</td>\n",
       "      <td>1955</td>\n",
       "      <td>ML1</td>\n",
       "      <td>0.366261</td>\n",
       "      <td>Hank</td>\n",
       "      <td>Aaron</td>\n",
       "    </tr>\n",
       "    <tr>\n",
       "      <th>2</th>\n",
       "      <td>aaronha01</td>\n",
       "      <td>1956</td>\n",
       "      <td>ML1</td>\n",
       "      <td>0.364885</td>\n",
       "      <td>Hank</td>\n",
       "      <td>Aaron</td>\n",
       "    </tr>\n",
       "    <tr>\n",
       "      <th>3</th>\n",
       "      <td>aaronha01</td>\n",
       "      <td>1957</td>\n",
       "      <td>ML1</td>\n",
       "      <td>0.377778</td>\n",
       "      <td>Hank</td>\n",
       "      <td>Aaron</td>\n",
       "    </tr>\n",
       "    <tr>\n",
       "      <th>4</th>\n",
       "      <td>aaronha01</td>\n",
       "      <td>1958</td>\n",
       "      <td>ML1</td>\n",
       "      <td>0.385542</td>\n",
       "      <td>Hank</td>\n",
       "      <td>Aaron</td>\n",
       "    </tr>\n",
       "  </tbody>\n",
       "</table>\n",
       "</div>"
      ],
      "text/plain": [
       "    playerID  yearID teamID       OBP nameFirst nameLast\n",
       "0  aaronha01    1954    ML1  0.322068      Hank    Aaron\n",
       "1  aaronha01    1955    ML1  0.366261      Hank    Aaron\n",
       "2  aaronha01    1956    ML1  0.364885      Hank    Aaron\n",
       "3  aaronha01    1957    ML1  0.377778      Hank    Aaron\n",
       "4  aaronha01    1958    ML1  0.385542      Hank    Aaron"
      ]
     },
     "execution_count": 8,
     "metadata": {},
     "output_type": "execute_result"
    }
   ],
   "source": [
    "batting_players = batting.merge(players,on='playerID')\n",
    "batting_players.head()"
   ]
  },
  {
   "cell_type": "code",
   "execution_count": 9,
   "metadata": {
    "collapsed": false
   },
   "outputs": [
    {
     "data": {
      "text/html": [
       "<div>\n",
       "<table border=\"1\" class=\"dataframe\">\n",
       "  <thead>\n",
       "    <tr style=\"text-align: right;\">\n",
       "      <th></th>\n",
       "      <th>playerID</th>\n",
       "      <th>yearID</th>\n",
       "      <th>teamID</th>\n",
       "      <th>OBP</th>\n",
       "      <th>nameFirst</th>\n",
       "      <th>nameLast</th>\n",
       "      <th>G_p</th>\n",
       "      <th>G_c</th>\n",
       "      <th>G_1b</th>\n",
       "      <th>G_2b</th>\n",
       "      <th>G_3b</th>\n",
       "      <th>G_ss</th>\n",
       "      <th>G_lf</th>\n",
       "      <th>G_cf</th>\n",
       "      <th>G_rf</th>\n",
       "    </tr>\n",
       "  </thead>\n",
       "  <tbody>\n",
       "    <tr>\n",
       "      <th>0</th>\n",
       "      <td>aaronha01</td>\n",
       "      <td>1954</td>\n",
       "      <td>ML1</td>\n",
       "      <td>0.322068</td>\n",
       "      <td>Hank</td>\n",
       "      <td>Aaron</td>\n",
       "      <td>0</td>\n",
       "      <td>0</td>\n",
       "      <td>0</td>\n",
       "      <td>0</td>\n",
       "      <td>0</td>\n",
       "      <td>0</td>\n",
       "      <td>105</td>\n",
       "      <td>0</td>\n",
       "      <td>11</td>\n",
       "    </tr>\n",
       "    <tr>\n",
       "      <th>1</th>\n",
       "      <td>aaronha01</td>\n",
       "      <td>1955</td>\n",
       "      <td>ML1</td>\n",
       "      <td>0.366261</td>\n",
       "      <td>Hank</td>\n",
       "      <td>Aaron</td>\n",
       "      <td>0</td>\n",
       "      <td>0</td>\n",
       "      <td>0</td>\n",
       "      <td>27</td>\n",
       "      <td>0</td>\n",
       "      <td>0</td>\n",
       "      <td>26</td>\n",
       "      <td>0</td>\n",
       "      <td>105</td>\n",
       "    </tr>\n",
       "    <tr>\n",
       "      <th>2</th>\n",
       "      <td>aaronha01</td>\n",
       "      <td>1956</td>\n",
       "      <td>ML1</td>\n",
       "      <td>0.364885</td>\n",
       "      <td>Hank</td>\n",
       "      <td>Aaron</td>\n",
       "      <td>0</td>\n",
       "      <td>0</td>\n",
       "      <td>0</td>\n",
       "      <td>0</td>\n",
       "      <td>0</td>\n",
       "      <td>0</td>\n",
       "      <td>0</td>\n",
       "      <td>0</td>\n",
       "      <td>152</td>\n",
       "    </tr>\n",
       "    <tr>\n",
       "      <th>3</th>\n",
       "      <td>aaronha01</td>\n",
       "      <td>1957</td>\n",
       "      <td>ML1</td>\n",
       "      <td>0.377778</td>\n",
       "      <td>Hank</td>\n",
       "      <td>Aaron</td>\n",
       "      <td>0</td>\n",
       "      <td>0</td>\n",
       "      <td>0</td>\n",
       "      <td>0</td>\n",
       "      <td>0</td>\n",
       "      <td>0</td>\n",
       "      <td>1</td>\n",
       "      <td>69</td>\n",
       "      <td>83</td>\n",
       "    </tr>\n",
       "    <tr>\n",
       "      <th>4</th>\n",
       "      <td>aaronha01</td>\n",
       "      <td>1958</td>\n",
       "      <td>ML1</td>\n",
       "      <td>0.385542</td>\n",
       "      <td>Hank</td>\n",
       "      <td>Aaron</td>\n",
       "      <td>0</td>\n",
       "      <td>0</td>\n",
       "      <td>0</td>\n",
       "      <td>0</td>\n",
       "      <td>0</td>\n",
       "      <td>0</td>\n",
       "      <td>0</td>\n",
       "      <td>39</td>\n",
       "      <td>120</td>\n",
       "    </tr>\n",
       "  </tbody>\n",
       "</table>\n",
       "</div>"
      ],
      "text/plain": [
       "    playerID  yearID teamID       OBP nameFirst nameLast  G_p  G_c  G_1b  \\\n",
       "0  aaronha01    1954    ML1  0.322068      Hank    Aaron    0    0     0   \n",
       "1  aaronha01    1955    ML1  0.366261      Hank    Aaron    0    0     0   \n",
       "2  aaronha01    1956    ML1  0.364885      Hank    Aaron    0    0     0   \n",
       "3  aaronha01    1957    ML1  0.377778      Hank    Aaron    0    0     0   \n",
       "4  aaronha01    1958    ML1  0.385542      Hank    Aaron    0    0     0   \n",
       "\n",
       "   G_2b  G_3b  G_ss  G_lf  G_cf  G_rf  \n",
       "0     0     0     0   105     0    11  \n",
       "1    27     0     0    26     0   105  \n",
       "2     0     0     0     0     0   152  \n",
       "3     0     0     0     1    69    83  \n",
       "4     0     0     0     0    39   120  "
      ]
     },
     "execution_count": 9,
     "metadata": {},
     "output_type": "execute_result"
    }
   ],
   "source": [
    "batting_players_pos = batting_players.merge(positions,on=['playerID', 'yearID', 'teamID'])\n",
    "batting_players_pos.head()"
   ]
  },
  {
   "cell_type": "code",
   "execution_count": 10,
   "metadata": {
    "collapsed": false
   },
   "outputs": [
    {
     "data": {
      "text/html": [
       "<div>\n",
       "<table border=\"1\" class=\"dataframe\">\n",
       "  <thead>\n",
       "    <tr style=\"text-align: right;\">\n",
       "      <th></th>\n",
       "      <th>playerID</th>\n",
       "      <th>yearID</th>\n",
       "      <th>teamID</th>\n",
       "      <th>OBP</th>\n",
       "      <th>nameFirst</th>\n",
       "      <th>nameLast</th>\n",
       "      <th>G_p</th>\n",
       "      <th>G_c</th>\n",
       "      <th>G_1b</th>\n",
       "      <th>G_2b</th>\n",
       "      <th>G_3b</th>\n",
       "      <th>G_ss</th>\n",
       "      <th>G_lf</th>\n",
       "      <th>G_cf</th>\n",
       "      <th>G_rf</th>\n",
       "      <th>salary</th>\n",
       "    </tr>\n",
       "  </thead>\n",
       "  <tbody>\n",
       "    <tr>\n",
       "      <th>0</th>\n",
       "      <td>rosepe01</td>\n",
       "      <td>1985</td>\n",
       "      <td>CIN</td>\n",
       "      <td>0.394790</td>\n",
       "      <td>Pete</td>\n",
       "      <td>Rose</td>\n",
       "      <td>0</td>\n",
       "      <td>0</td>\n",
       "      <td>110</td>\n",
       "      <td>0</td>\n",
       "      <td>0</td>\n",
       "      <td>0</td>\n",
       "      <td>0</td>\n",
       "      <td>0</td>\n",
       "      <td>0</td>\n",
       "      <td>358858</td>\n",
       "    </tr>\n",
       "    <tr>\n",
       "      <th>1</th>\n",
       "      <td>rosepe01</td>\n",
       "      <td>1986</td>\n",
       "      <td>CIN</td>\n",
       "      <td>0.316176</td>\n",
       "      <td>Pete</td>\n",
       "      <td>Rose</td>\n",
       "      <td>0</td>\n",
       "      <td>0</td>\n",
       "      <td>61</td>\n",
       "      <td>0</td>\n",
       "      <td>0</td>\n",
       "      <td>0</td>\n",
       "      <td>0</td>\n",
       "      <td>0</td>\n",
       "      <td>0</td>\n",
       "      <td>1000000</td>\n",
       "    </tr>\n",
       "    <tr>\n",
       "      <th>2</th>\n",
       "      <td>staubru01</td>\n",
       "      <td>1985</td>\n",
       "      <td>NYN</td>\n",
       "      <td>0.400000</td>\n",
       "      <td>Rusty</td>\n",
       "      <td>Staub</td>\n",
       "      <td>0</td>\n",
       "      <td>0</td>\n",
       "      <td>0</td>\n",
       "      <td>0</td>\n",
       "      <td>0</td>\n",
       "      <td>0</td>\n",
       "      <td>0</td>\n",
       "      <td>0</td>\n",
       "      <td>1</td>\n",
       "      <td>300000</td>\n",
       "    </tr>\n",
       "    <tr>\n",
       "      <th>3</th>\n",
       "      <td>perezto01</td>\n",
       "      <td>1985</td>\n",
       "      <td>CIN</td>\n",
       "      <td>0.396135</td>\n",
       "      <td>Tony</td>\n",
       "      <td>Perez</td>\n",
       "      <td>0</td>\n",
       "      <td>0</td>\n",
       "      <td>50</td>\n",
       "      <td>0</td>\n",
       "      <td>0</td>\n",
       "      <td>0</td>\n",
       "      <td>0</td>\n",
       "      <td>0</td>\n",
       "      <td>0</td>\n",
       "      <td>225000</td>\n",
       "    </tr>\n",
       "    <tr>\n",
       "      <th>4</th>\n",
       "      <td>perezto01</td>\n",
       "      <td>1986</td>\n",
       "      <td>CIN</td>\n",
       "      <td>0.333333</td>\n",
       "      <td>Tony</td>\n",
       "      <td>Perez</td>\n",
       "      <td>0</td>\n",
       "      <td>0</td>\n",
       "      <td>55</td>\n",
       "      <td>0</td>\n",
       "      <td>0</td>\n",
       "      <td>0</td>\n",
       "      <td>0</td>\n",
       "      <td>0</td>\n",
       "      <td>0</td>\n",
       "      <td>275000</td>\n",
       "    </tr>\n",
       "  </tbody>\n",
       "</table>\n",
       "</div>"
      ],
      "text/plain": [
       "    playerID  yearID teamID       OBP nameFirst nameLast  G_p  G_c  G_1b  \\\n",
       "0   rosepe01    1985    CIN  0.394790      Pete     Rose    0    0   110   \n",
       "1   rosepe01    1986    CIN  0.316176      Pete     Rose    0    0    61   \n",
       "2  staubru01    1985    NYN  0.400000     Rusty    Staub    0    0     0   \n",
       "3  perezto01    1985    CIN  0.396135      Tony    Perez    0    0    50   \n",
       "4  perezto01    1986    CIN  0.333333      Tony    Perez    0    0    55   \n",
       "\n",
       "   G_2b  G_3b  G_ss  G_lf  G_cf  G_rf   salary  \n",
       "0     0     0     0     0     0     0   358858  \n",
       "1     0     0     0     0     0     0  1000000  \n",
       "2     0     0     0     0     0     1   300000  \n",
       "3     0     0     0     0     0     0   225000  \n",
       "4     0     0     0     0     0     0   275000  "
      ]
     },
     "execution_count": 10,
     "metadata": {},
     "output_type": "execute_result"
    }
   ],
   "source": [
    "master = batting_players_pos.merge(salary,on=['playerID', 'yearID', 'teamID'])\n",
    "master = master.dropna()\n",
    "master.head()"
   ]
  },
  {
   "cell_type": "markdown",
   "metadata": {},
   "source": [
    "#### Create metric 'OBP/$' to determine players' values."
   ]
  },
  {
   "cell_type": "markdown",
   "metadata": {},
   "source": [
    "Since OBP is such a small number and salaries are so large, I multiply this metric by 100,000 just to make it easier to read. "
   ]
  },
  {
   "cell_type": "code",
   "execution_count": 11,
   "metadata": {
    "collapsed": true
   },
   "outputs": [],
   "source": [
    "master['OBP/$'] = (master.OBP / master.salary) * 100000"
   ]
  },
  {
   "cell_type": "markdown",
   "metadata": {},
   "source": [
    "#### Create Function to select best team from a given year."
   ]
  },
  {
   "cell_type": "code",
   "execution_count": 12,
   "metadata": {
    "collapsed": false
   },
   "outputs": [],
   "source": [
    "def moneyball_team(df, year, min_games=50):\n",
    "    roster = {'G_p':'Pitcher', 'G_c':'Catcher', 'G_1b':'First Base', 'G_2b':'Second Base',\n",
    "              'G_3b':'Third Base', 'G_ss':'Shortstop', 'G_lf':'Left Field',\n",
    "              'G_cf':'Center Field', 'G_rf':'Right Field'}\n",
    "    team = []\n",
    "    df_year = df[df.yearID == year].sort_values(by='OBP/$',ascending=False)\n",
    "    for player, position in roster.items():\n",
    "        current_player = df_year[df_year[player] >= min_games][:1]\n",
    "        current_player['POS'] = position\n",
    "        team.append(current_player)\n",
    "    team = pd.concat(team)\n",
    "    team = team.drop(['G_p', 'G_c', 'G_1b', 'G_2b',\n",
    "                      'G_3b', 'G_ss', 'G_lf', 'G_cf', 'G_rf'], axis=1)\n",
    "    team = team.set_index('playerID')\n",
    "    team = team.sort_values(by='OBP/$',ascending=False)\n",
    "    return team[['yearID', 'nameFirst','nameLast','POS','OBP', 'salary','OBP/$']]"
   ]
  },
  {
   "cell_type": "markdown",
   "metadata": {},
   "source": [
    "#### Now, the moment of truth....   What is the best \"moneyball\" team we could put together in, say, 1990?"
   ]
  },
  {
   "cell_type": "code",
   "execution_count": 13,
   "metadata": {
    "collapsed": false
   },
   "outputs": [
    {
     "data": {
      "text/html": [
       "<div>\n",
       "<table border=\"1\" class=\"dataframe\">\n",
       "  <thead>\n",
       "    <tr style=\"text-align: right;\">\n",
       "      <th></th>\n",
       "      <th>yearID</th>\n",
       "      <th>nameFirst</th>\n",
       "      <th>nameLast</th>\n",
       "      <th>POS</th>\n",
       "      <th>OBP</th>\n",
       "      <th>salary</th>\n",
       "      <th>OBP/$</th>\n",
       "    </tr>\n",
       "    <tr>\n",
       "      <th>playerID</th>\n",
       "      <th></th>\n",
       "      <th></th>\n",
       "      <th></th>\n",
       "      <th></th>\n",
       "      <th></th>\n",
       "      <th></th>\n",
       "      <th></th>\n",
       "    </tr>\n",
       "  </thead>\n",
       "  <tbody>\n",
       "    <tr>\n",
       "      <th>deshide01</th>\n",
       "      <td>1990</td>\n",
       "      <td>Delino</td>\n",
       "      <td>DeShields</td>\n",
       "      <td>Second Base</td>\n",
       "      <td>0.374781</td>\n",
       "      <td>100000</td>\n",
       "      <td>0.374781</td>\n",
       "    </tr>\n",
       "    <tr>\n",
       "      <th>macksh01</th>\n",
       "      <td>1990</td>\n",
       "      <td>Shane</td>\n",
       "      <td>Mack</td>\n",
       "      <td>Right Field</td>\n",
       "      <td>0.391931</td>\n",
       "      <td>105000</td>\n",
       "      <td>0.373267</td>\n",
       "    </tr>\n",
       "    <tr>\n",
       "      <th>martied01</th>\n",
       "      <td>1990</td>\n",
       "      <td>Edgar</td>\n",
       "      <td>Martinez</td>\n",
       "      <td>Third Base</td>\n",
       "      <td>0.397188</td>\n",
       "      <td>108000</td>\n",
       "      <td>0.367767</td>\n",
       "    </tr>\n",
       "    <tr>\n",
       "      <th>diazed01</th>\n",
       "      <td>1990</td>\n",
       "      <td>Edgar</td>\n",
       "      <td>Diaz</td>\n",
       "      <td>Shortstop</td>\n",
       "      <td>0.337500</td>\n",
       "      <td>100000</td>\n",
       "      <td>0.337500</td>\n",
       "    </tr>\n",
       "    <tr>\n",
       "      <th>zeileto01</th>\n",
       "      <td>1990</td>\n",
       "      <td>Todd</td>\n",
       "      <td>Zeile</td>\n",
       "      <td>Catcher</td>\n",
       "      <td>0.333333</td>\n",
       "      <td>100000</td>\n",
       "      <td>0.333333</td>\n",
       "    </tr>\n",
       "    <tr>\n",
       "      <th>morriha02</th>\n",
       "      <td>1990</td>\n",
       "      <td>Hal</td>\n",
       "      <td>Morris</td>\n",
       "      <td>First Base</td>\n",
       "      <td>0.381381</td>\n",
       "      <td>114500</td>\n",
       "      <td>0.333084</td>\n",
       "    </tr>\n",
       "    <tr>\n",
       "      <th>milleke01</th>\n",
       "      <td>1990</td>\n",
       "      <td>Keith</td>\n",
       "      <td>Miller</td>\n",
       "      <td>Center Field</td>\n",
       "      <td>0.326923</td>\n",
       "      <td>100000</td>\n",
       "      <td>0.326923</td>\n",
       "    </tr>\n",
       "    <tr>\n",
       "      <th>dascedo01</th>\n",
       "      <td>1990</td>\n",
       "      <td>Doug</td>\n",
       "      <td>Dascenzo</td>\n",
       "      <td>Left Field</td>\n",
       "      <td>0.312030</td>\n",
       "      <td>100000</td>\n",
       "      <td>0.312030</td>\n",
       "    </tr>\n",
       "    <tr>\n",
       "      <th>castito02</th>\n",
       "      <td>1990</td>\n",
       "      <td>Tony</td>\n",
       "      <td>Castillo</td>\n",
       "      <td>Pitcher</td>\n",
       "      <td>0.250000</td>\n",
       "      <td>100000</td>\n",
       "      <td>0.250000</td>\n",
       "    </tr>\n",
       "  </tbody>\n",
       "</table>\n",
       "</div>"
      ],
      "text/plain": [
       "           yearID nameFirst   nameLast           POS       OBP  salary  \\\n",
       "playerID                                                                 \n",
       "deshide01    1990    Delino  DeShields   Second Base  0.374781  100000   \n",
       "macksh01     1990     Shane       Mack   Right Field  0.391931  105000   \n",
       "martied01    1990     Edgar   Martinez    Third Base  0.397188  108000   \n",
       "diazed01     1990     Edgar       Diaz     Shortstop  0.337500  100000   \n",
       "zeileto01    1990      Todd      Zeile       Catcher  0.333333  100000   \n",
       "morriha02    1990       Hal     Morris    First Base  0.381381  114500   \n",
       "milleke01    1990     Keith     Miller  Center Field  0.326923  100000   \n",
       "dascedo01    1990      Doug   Dascenzo    Left Field  0.312030  100000   \n",
       "castito02    1990      Tony   Castillo       Pitcher  0.250000  100000   \n",
       "\n",
       "              OBP/$  \n",
       "playerID             \n",
       "deshide01  0.374781  \n",
       "macksh01   0.373267  \n",
       "martied01  0.367767  \n",
       "diazed01   0.337500  \n",
       "zeileto01  0.333333  \n",
       "morriha02  0.333084  \n",
       "milleke01  0.326923  \n",
       "dascedo01  0.312030  \n",
       "castito02  0.250000  "
      ]
     },
     "execution_count": 13,
     "metadata": {},
     "output_type": "execute_result"
    }
   ],
   "source": [
    "moneyball_MCMXC = moneyball_team(master, 1990)\n",
    "moneyball_MCMXC"
   ]
  },
  {
   "cell_type": "code",
   "execution_count": 14,
   "metadata": {
    "collapsed": true
   },
   "outputs": [],
   "source": [
    "#money"
   ]
  },
  {
   "cell_type": "code",
   "execution_count": null,
   "metadata": {
    "collapsed": true
   },
   "outputs": [],
   "source": []
  }
 ],
 "metadata": {
  "kernelspec": {
   "display_name": "Python 3",
   "language": "python",
   "name": "python3"
  },
  "language_info": {
   "codemirror_mode": {
    "name": "ipython",
    "version": 3
   },
   "file_extension": ".py",
   "mimetype": "text/x-python",
   "name": "python",
   "nbconvert_exporter": "python",
   "pygments_lexer": "ipython3",
   "version": "3.5.1"
  }
 },
 "nbformat": 4,
 "nbformat_minor": 0
}
